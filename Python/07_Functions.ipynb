{
 "cells": [
  {
   "cell_type": "markdown",
   "metadata": {},
   "source": [
    "<a href='https://www.darshan.ac.in/'> <img src='https://www.darshan.ac.in/Content/media/DU_Logo.svg' width=\"250\" height=\"300\"/></a>\n",
    "<pre>\n",
    "<center><b><h1>Python Programming - 2101CS405</b></center>\n",
    "<center><b><h1>Lab - 7</b></center>    \n",
    "<pre>"
   ]
  },
  {
   "cell_type": "markdown",
   "metadata": {},
   "source": [
    "# Functions"
   ]
  },
  {
   "cell_type": "markdown",
   "metadata": {},
   "source": [
    "### 01) WAP to count simple interest using function."
   ]
  },
  {
   "cell_type": "code",
   "execution_count": 4,
   "metadata": {},
   "outputs": [
    {
     "name": "stdout",
     "output_type": "stream",
     "text": [
      "Enter the Principal: 10000\n",
      "Enter the Rate Of Interest: 5\n",
      "Enter the Time Period: 2\n",
      "Simple Interest: 1000.0\n"
     ]
    }
   ],
   "source": [
    "def getInterest(p,r,n):\n",
    "    return p*r*n/100\n",
    "\n",
    "p = int(input(\"Enter the Principal: \"))\n",
    "r = int(input(\"Enter the Rate Of Interest: \"))\n",
    "n = int(input(\"Enter the Time Period: \"))\n",
    "print(\"Simple Interest:\",getInterest(10000,5,2))"
   ]
  },
  {
   "cell_type": "markdown",
   "metadata": {},
   "source": [
    "### 02) WAP that defines a function to add first n numbers."
   ]
  },
  {
   "cell_type": "code",
   "execution_count": 1,
   "metadata": {},
   "outputs": [
    {
     "name": "stdout",
     "output_type": "stream",
     "text": [
      "15\n"
     ]
    }
   ],
   "source": [
    "def sumNumber(n):\n",
    "    sum=0\n",
    "    for i in range(1,n+1):\n",
    "        sum+=i\n",
    "    return sum\n",
    "\n",
    "print(sumNumber(int(input(\"Enter the Number : \"))))"
   ]
  },
  {
   "cell_type": "markdown",
   "metadata": {},
   "source": [
    "### 03) WAP to find maximum number from given two numbers using function."
   ]
  },
  {
   "cell_type": "code",
   "execution_count": 2,
   "metadata": {},
   "outputs": [
    {
     "data": {
      "text/plain": [
       "9"
      ]
     },
     "execution_count": 2,
     "metadata": {},
     "output_type": "execute_result"
    }
   ],
   "source": [
    "largeNum = lambda a,b: max(a,b)\n",
    "\n",
    "largeNum(int(input(\"Enter the number 1 :\")), int(input(\"Enter the number 2 :\")))"
   ]
  },
  {
   "cell_type": "markdown",
   "metadata": {},
   "source": [
    "### 04) WAP that defines a function which returns 1 if the number is prime otherwise return 0."
   ]
  },
  {
   "cell_type": "code",
   "execution_count": 8,
   "metadata": {},
   "outputs": [
    {
     "name": "stdout",
     "output_type": "stream",
     "text": [
      "0\n"
     ]
    }
   ],
   "source": [
    "def getPrime(n):\n",
    "    for i in range(2,n//2+1):\n",
    "        if(n%i == 0):\n",
    "            return 0\n",
    "    return 1\n",
    "\n",
    "print(getPrime(int(input(\"Enter the number :\"))))"
   ]
  },
  {
   "cell_type": "markdown",
   "metadata": {},
   "source": [
    "### 05) Write a function called primes that takes an integer value as an argument and returns a list of all prime numbers up to that number."
   ]
  },
  {
   "cell_type": "code",
   "execution_count": 21,
   "metadata": {},
   "outputs": [
    {
     "name": "stdout",
     "output_type": "stream",
     "text": [
      "[1, 2, 3, 5, 7, 11, 13, 17, 19]\n"
     ]
    }
   ],
   "source": [
    "def getPrime(n):\n",
    "    primeNum = []\n",
    "    for i in range(1, n+1):\n",
    "        for j in range(2, i//2+1):\n",
    "            if(i%j == 0):\n",
    "                break\n",
    "        else:\n",
    "            primeNum.append(i)\n",
    "    return primeNum\n",
    "        \n",
    "\n",
    "print(getPrime(int(input(\"Enter the number :\"))))"
   ]
  },
  {
   "cell_type": "markdown",
   "metadata": {},
   "source": [
    "### 06) WAP to generate Fibonacci series of N given number using function name fibbo. (e.g. 0 1 1 2 3 5 8...)"
   ]
  },
  {
   "cell_type": "code",
   "execution_count": 34,
   "metadata": {},
   "outputs": [
    {
     "name": "stdout",
     "output_type": "stream",
     "text": [
      "0 1 1 2 3 5 8 13 None\n"
     ]
    }
   ],
   "source": [
    "def getfibonacci(n):\n",
    "    a = 0\n",
    "    b = 1\n",
    "    for i in range(n):\n",
    "        print(a, end = \" \")\n",
    "        temp = a + b;\n",
    "        a = b;\n",
    "        b = temp;\n",
    "\n",
    "print(getfibonacci(int(input(\"Enter the number :\"))))"
   ]
  },
  {
   "cell_type": "markdown",
   "metadata": {},
   "source": [
    "### 07) WAP to find the factorial of a given number using recursion."
   ]
  },
  {
   "cell_type": "code",
   "execution_count": 35,
   "metadata": {},
   "outputs": [
    {
     "name": "stdout",
     "output_type": "stream",
     "text": [
      "120\n"
     ]
    }
   ],
   "source": [
    "\n",
    "def fact(n):\n",
    "    if(n<=1):\n",
    "        return 1\n",
    "    else:\n",
    "        return n*fact(n-1)\n",
    "print(fact(int(input(\"Enter n : \"))))"
   ]
  },
  {
   "cell_type": "markdown",
   "metadata": {},
   "source": [
    "### 08) WAP to implement simple calculator using lamda function."
   ]
  },
  {
   "cell_type": "code",
   "execution_count": 37,
   "metadata": {},
   "outputs": [
    {
     "name": "stdout",
     "output_type": "stream",
     "text": [
      "3\n",
      "-1\n",
      "2\n",
      "0.5\n",
      "operation not valid\n"
     ]
    }
   ],
   "source": [
    "calculator=lambda a,b,op: a+b if (op==\"+\") else a-b if (op==\"-\") else a*b if (op==\"*\") else a/b if (op==\"/\") else \"operation not valid\"\n",
    "\n",
    "print(calculator(1,2,\"+\"))\n",
    "print(calculator(1,2,\"-\"))\n",
    "print(calculator(1,2,\"*\"))\n",
    "print(calculator(1,2,\"/\"))\n",
    "print(calculator(1,2,\".\"))"
   ]
  },
  {
   "cell_type": "markdown",
   "metadata": {},
   "source": [
    "### 09)Write a Python program that accepts a hyphen-separated sequence of words as input and prints the words in a hyphen-separated sequence after sorting them alphabetically\n",
    "Sample Items : green-red-yellow-black-white <br>\n",
    "Expected Result : black-green-red-white-yellow"
   ]
  },
  {
   "cell_type": "code",
   "execution_count": 38,
   "metadata": {},
   "outputs": [
    {
     "data": {
      "text/plain": [
       "'black-green-red-white-yellow'"
      ]
     },
     "execution_count": 38,
     "metadata": {},
     "output_type": "execute_result"
    }
   ],
   "source": [
    "def sorting(str):\n",
    "    a=str.split(\"-\")\n",
    "    a.sort()\n",
    "    return \"-\".join(a)\n",
    "sorting(\"green-red-yellow-black-white\")"
   ]
  },
  {
   "cell_type": "markdown",
   "metadata": {},
   "source": [
    "### 10) Write a python program to implement all function arguments type\n",
    "Positional arguments <Br>\n",
    "Default argument <Br>\n",
    "Keyword arguments (named arguments) <Br>\n",
    "Arbitrary arguments (variable-length arguments args and kwargs)"
   ]
  },
  {
   "cell_type": "code",
   "execution_count": 43,
   "metadata": {},
   "outputs": [
    {
     "name": "stdout",
     "output_type": "stream",
     "text": [
      "Positional arg 'fun1(3,5,c=6)' :  4\n",
      "Default arg 'fun1(3,5)' :  3\n",
      "Keyword arg 'fun1(b=3,a=5,c=9)' :  11\n",
      "Arbitrary arg 'add(1,2,3,5,6,7,8)' :  32\n"
     ]
    }
   ],
   "source": [
    "fun1=lambda a,b,c=5:a-b+c\n",
    "print(\"Positional arg 'fun1(3,5,c=6)' : \",fun1(3,5,c=6))\n",
    "print(\"Default arg 'fun1(3,5)' : \",fun1(3,5))\n",
    "print(\"Keyword arg 'fun1(b=3,a=5,c=9)' : \",fun1(b=3,a=5,c=9))\n",
    "\n",
    "def add(*num):\n",
    "    sum = 0\n",
    "    for n in num:\n",
    "        sum = sum + n\n",
    "    return sum\n",
    "print(\"Arbitrary arg 'add(1,2,3,5,6,7,8)' : \",add(1,2,3,5,6,7,8))"
   ]
  },
  {
   "cell_type": "markdown",
   "metadata": {},
   "source": [
    "### 01) WAP to calculate power of a number using recursion."
   ]
  },
  {
   "cell_type": "code",
   "execution_count": 42,
   "metadata": {},
   "outputs": [
    {
     "name": "stdout",
     "output_type": "stream",
     "text": [
      "0.1111111111111111\n"
     ]
    }
   ],
   "source": [
    "def powerOfNumber(a,b):\n",
    "    \n",
    "    if(b==1):\n",
    "        return a\n",
    "    elif(b==0):\n",
    "        return 1\n",
    "    elif(b<0):\n",
    "        return 1/a*powerOfNumber(a,b+1)\n",
    "    else :\n",
    "        return a*powerOfNumber(a,b-1)\n",
    "print(powerOfNumber(3,-2))"
   ]
  },
  {
   "cell_type": "markdown",
   "metadata": {},
   "source": [
    "### 02) WAP to count digits of a number using recursion."
   ]
  },
  {
   "cell_type": "code",
   "execution_count": 41,
   "metadata": {},
   "outputs": [
    {
     "data": {
      "text/plain": [
       "5"
      ]
     },
     "execution_count": 41,
     "metadata": {},
     "output_type": "execute_result"
    }
   ],
   "source": [
    "def countDigit(n):\n",
    "    return 0 if (n==0) else 1+countDigit(int(n/10))\n",
    "   \n",
    "countDigit(-15258)"
   ]
  },
  {
   "cell_type": "markdown",
   "metadata": {},
   "source": [
    "### 03) WAP to reverse an integer number using recursion."
   ]
  },
  {
   "cell_type": "code",
   "execution_count": 40,
   "metadata": {},
   "outputs": [
    {
     "data": {
      "text/plain": [
       "36597851"
      ]
     },
     "execution_count": 40,
     "metadata": {},
     "output_type": "execute_result"
    }
   ],
   "source": [
    "\n",
    "def reverseNo(no,newno=0):\n",
    "    return newno if(no==0) else reverseNo(int(no/10),newno*10+int((no if(no>0) else -no) %10))\n",
    "\n",
    "reverseNo(-15879563)"
   ]
  },
  {
   "cell_type": "markdown",
   "metadata": {},
   "source": [
    "### 04) WAP to convert decimal number into binary using recursion."
   ]
  },
  {
   "cell_type": "code",
   "execution_count": 39,
   "metadata": {},
   "outputs": [
    {
     "data": {
      "text/plain": [
       "'1111101'"
      ]
     },
     "execution_count": 39,
     "metadata": {},
     "output_type": "execute_result"
    }
   ],
   "source": [
    "def decimalToBinary(no,binary=''):\n",
    "    return binary[::-1] if(no==0) else decimalToBinary(int(no/2),binary+str(no%2))\n",
    "decimalToBinary(125)"
   ]
  }
 ],
 "metadata": {
  "kernelspec": {
   "display_name": "Python 3 (ipykernel)",
   "language": "python",
   "name": "python3"
  },
  "language_info": {
   "codemirror_mode": {
    "name": "ipython",
    "version": 3
   },
   "file_extension": ".py",
   "mimetype": "text/x-python",
   "name": "python",
   "nbconvert_exporter": "python",
   "pygments_lexer": "ipython3",
   "version": "3.11.0"
  }
 },
 "nbformat": 4,
 "nbformat_minor": 4
}
