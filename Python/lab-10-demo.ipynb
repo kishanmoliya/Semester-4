{
 "cells": [
  {
   "cell_type": "code",
   "execution_count": null,
   "id": "897d0b27",
   "metadata": {},
   "outputs": [],
   "source": [
    "### Random Module"
   ]
  },
  {
   "cell_type": "code",
   "execution_count": 15,
   "id": "f9e7245f",
   "metadata": {},
   "outputs": [
    {
     "name": "stdout",
     "output_type": "stream",
     "text": [
      "0.35747034679582423\n"
     ]
    }
   ],
   "source": [
    "import random\n",
    "print(random.random())"
   ]
  },
  {
   "cell_type": "code",
   "execution_count": 18,
   "id": "dd5ee831",
   "metadata": {},
   "outputs": [
    {
     "name": "stdout",
     "output_type": "stream",
     "text": [
      "0.2395819706543597\n"
     ]
    }
   ],
   "source": [
    "random.seed()\n",
    "print(random.random())"
   ]
  },
  {
   "cell_type": "code",
   "execution_count": 38,
   "id": "47af7297",
   "metadata": {},
   "outputs": [
    {
     "name": "stdout",
     "output_type": "stream",
     "text": [
      "25\n"
     ]
    }
   ],
   "source": [
    "print(random.randint(0,100))"
   ]
  },
  {
   "cell_type": "code",
   "execution_count": 48,
   "id": "b69cf91e",
   "metadata": {},
   "outputs": [
    {
     "name": "stdout",
     "output_type": "stream",
     "text": [
      "20\n"
     ]
    }
   ],
   "source": [
    "print(random.randrange(0,30,5))"
   ]
  },
  {
   "cell_type": "code",
   "execution_count": 63,
   "id": "3c4625f3",
   "metadata": {},
   "outputs": [
    {
     "name": "stdout",
     "output_type": "stream",
     "text": [
      "6\n",
      "[3, 46, 56]\n"
     ]
    }
   ],
   "source": [
    "l1 = [5,6,7,6,3,46,65,56,35,31]\n",
    "print(random.choice(l1))\n",
    "\n",
    "print(random.sample(l1,3))"
   ]
  },
  {
   "cell_type": "code",
   "execution_count": 66,
   "id": "06dbb17d",
   "metadata": {},
   "outputs": [
    {
     "name": "stdout",
     "output_type": "stream",
     "text": [
      "[5, 3, 7, 31, 6, 56, 46, 65, 35, 6]\n"
     ]
    }
   ],
   "source": [
    "random.shuffle(l1)\n",
    "print(l1)"
   ]
  },
  {
   "cell_type": "code",
   "execution_count": 67,
   "id": "59c2dfd2",
   "metadata": {},
   "outputs": [
    {
     "name": "stdout",
     "output_type": "stream",
     "text": [
      "7.081518271917703\n"
     ]
    }
   ],
   "source": [
    "print(random.uniform(5,10))   #Include 5 and 10"
   ]
  },
  {
   "cell_type": "markdown",
   "id": "42c07c23",
   "metadata": {},
   "source": [
    "### Math Module"
   ]
  },
  {
   "cell_type": "code",
   "execution_count": 111,
   "id": "1fc524a7",
   "metadata": {},
   "outputs": [
    {
     "name": "stdout",
     "output_type": "stream",
     "text": [
      "e = 2.718281828459045\n",
      "Pi = 3.141592653589793\n",
      "6.283185307179586\n"
     ]
    }
   ],
   "source": [
    "import math\n",
    "print(\"e =\", math.e)\n",
    "print(\"Pi =\", math.pi)\n",
    "print(math.tau)"
   ]
  },
  {
   "cell_type": "code",
   "execution_count": 110,
   "id": "64f10047",
   "metadata": {},
   "outputs": [
    {
     "name": "stdout",
     "output_type": "stream",
     "text": [
      "7\n",
      "6\n",
      "Factorail = 120\n",
      "10\n",
      "150\n"
     ]
    }
   ],
   "source": [
    "print(math.ceil(6.8))\n",
    "print(math.floor(6.8))\n",
    "print(\"Factorail =\", math.factorial(5))\n",
    "print(math.gcd(50,30))\n",
    "print(math.lcm(50,30))"
   ]
  },
  {
   "cell_type": "code",
   "execution_count": 109,
   "id": "b5556ecc",
   "metadata": {},
   "outputs": [
    {
     "name": "stdout",
     "output_type": "stream",
     "text": [
      "89.0\n",
      "148.4131591025766\n",
      "25.0\n",
      "3.321928094887362\n",
      "0.3010299956639812\n",
      "3.0\n",
      "0.8509035245341184\n",
      "0.5253219888177297\n",
      "1.6197751905438615\n",
      "1.5707963267948966\n",
      "143.2394487827058\n",
      "3628800.0\n"
     ]
    }
   ],
   "source": [
    "print(math.fabs(-89))\n",
    "print(math.exp(5))\n",
    "print(math.pow(5,2))\n",
    "print(math.log2(10))\n",
    "print(math.log10(2))\n",
    "print(math.sqrt(9))\n",
    "print(math.sin(45))\n",
    "print(math.cos(45))\n",
    "print(math.tan(45))\n",
    "print(math.radians(90))\n",
    "print(math.degrees(2.5))\n",
    "print(math.gamma(11))"
   ]
  },
  {
   "cell_type": "markdown",
   "id": "a397273c",
   "metadata": {},
   "source": [
    "### Date Module"
   ]
  },
  {
   "cell_type": "code",
   "execution_count": 94,
   "id": "9fd50154",
   "metadata": {},
   "outputs": [
    {
     "name": "stdout",
     "output_type": "stream",
     "text": [
      "2023-02-20\n",
      "2023-02-16\n",
      "16\n",
      "2\n",
      "2023\n",
      "10:30:05.000001\n"
     ]
    }
   ],
   "source": [
    "import datetime\n",
    "\n",
    "print(datetime.date(2023,2,20))\n",
    "\n",
    "today = datetime.date.today()\n",
    "print(today)\n",
    "print(today.day)\n",
    "print(today.month)\n",
    "print(today.year)"
   ]
  },
  {
   "cell_type": "code",
   "execution_count": 98,
   "id": "3ee95f8b",
   "metadata": {},
   "outputs": [
    {
     "name": "stdout",
     "output_type": "stream",
     "text": [
      "10:30:05.000001\n",
      "10\n",
      "30\n",
      "5\n",
      "1\n"
     ]
    }
   ],
   "source": [
    "t = datetime.time(10,30,5,1) #hour, min, sec, microSec\n",
    "print(t)\n",
    "print(t.hour)\n",
    "print(t.minute)\n",
    "print(t.second)\n",
    "print(t.microsecond)"
   ]
  },
  {
   "cell_type": "code",
   "execution_count": 103,
   "id": "154de1a3",
   "metadata": {},
   "outputs": [
    {
     "name": "stdout",
     "output_type": "stream",
     "text": [
      "2023-01-21 20:45:10\n",
      "2023-02-16 12:44:26.566715\n"
     ]
    }
   ],
   "source": [
    "t = datetime.datetime(2023, 1, 21, 20, 45, 10)\n",
    "print(t)\n",
    "print(datetime.datetime.now())"
   ]
  },
  {
   "cell_type": "code",
   "execution_count": 104,
   "id": "cdb748dd",
   "metadata": {},
   "outputs": [
    {
     "name": "stdout",
     "output_type": "stream",
     "text": [
      "2023-03-02 12:45:59.727805\n"
     ]
    }
   ],
   "source": [
    "x = datetime.datetime.now() + datetime.timedelta(weeks=2)\n",
    "print(x)"
   ]
  },
  {
   "cell_type": "code",
   "execution_count": 108,
   "id": "123e9dff",
   "metadata": {},
   "outputs": [
    {
     "name": "stdout",
     "output_type": "stream",
     "text": [
      "Thursday\n",
      "Thu\n",
      "03\n",
      "45\n",
      "23\n",
      "2023\n"
     ]
    }
   ],
   "source": [
    "print(x.strftime(\"%A\"))\n",
    "print(x.strftime(\"%a\"))\n",
    "print(x.strftime(\"%m\"))\n",
    "print(x.strftime(\"%M\"))\n",
    "print(x.strftime(\"%y\"))\n",
    "print(x.strftime(\"%Y\"))"
   ]
  }
 ],
 "metadata": {
  "kernelspec": {
   "display_name": "Python 3 (ipykernel)",
   "language": "python",
   "name": "python3"
  },
  "language_info": {
   "codemirror_mode": {
    "name": "ipython",
    "version": 3
   },
   "file_extension": ".py",
   "mimetype": "text/x-python",
   "name": "python",
   "nbconvert_exporter": "python",
   "pygments_lexer": "ipython3",
   "version": "3.9.12"
  }
 },
 "nbformat": 4,
 "nbformat_minor": 5
}
