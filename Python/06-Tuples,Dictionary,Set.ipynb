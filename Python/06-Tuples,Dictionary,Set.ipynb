{
 "cells": [
  {
   "attachments": {},
   "cell_type": "markdown",
   "metadata": {},
   "source": [
    "<a href='https://www.darshan.ac.in/'> <img src='https://www.darshan.ac.in/Content/media/DU_Logo.svg' width=\"250\" height=\"300\"/></a>\n",
    "<pre>\n",
    "<center><b><h1>Python Programming - 2101CS405</b></center>\n",
    "<center><b><h1>Lab - 6</b></center>    \n",
    "<pre>"
   ]
  },
  {
   "cell_type": "markdown",
   "metadata": {},
   "source": [
    "# Tuples, dictionary, set"
   ]
  },
  {
   "cell_type": "markdown",
   "metadata": {},
   "source": [
    "# A"
   ]
  },
  {
   "cell_type": "markdown",
   "metadata": {},
   "source": [
    "### 01) WAP to sort python dictionary by key or value."
   ]
  },
  {
   "cell_type": "code",
   "execution_count": 6,
   "metadata": {},
   "outputs": [
    {
     "name": "stdout",
     "output_type": "stream",
     "text": [
      "{1: 'devanshu', 2: 'karan', 3: 'uttam', 4: 'divyak', 5: 'kishan'}\n",
      "{1: 'devanshu', 4: 'divyak', 2: 'karan', 5: 'kishan', 3: 'uttam'}\n"
     ]
    }
   ],
   "source": [
    "dic={5:'kishan', 2:'karan', 3:'uttam', 4:\"divyak\", 1:\"devanshu\"}\n",
    "\n",
    "# Sort by Key\n",
    "print(dict(sorted(dic.items())))\n",
    "\n",
    "# Sort by Value\n",
    "print(dict(sorted(dic.items(),key=lambda x:x[1])))"
   ]
  },
  {
   "cell_type": "markdown",
   "metadata": {},
   "source": [
    "### 02) WAP to merge two dictionaries given by user."
   ]
  },
  {
   "cell_type": "code",
   "execution_count": 9,
   "metadata": {},
   "outputs": [
    {
     "name": "stdout",
     "output_type": "stream",
     "text": [
      "{'1': 'kishan', '2': 'karan', '3': 'uttam', '4': 'devanshu', '5': 'divyank', '6': 'mubin'}\n"
     ]
    }
   ],
   "source": [
    "dic1={}\n",
    "a=int(input(\"Enter size of dict 1 : \"))\n",
    "for i in range(a):\n",
    "    key=input(\"Enter Key : \")\n",
    "    value=input(\"Enter Value : \")\n",
    "    dic1[key]=value\n",
    "\n",
    "dic2={}\n",
    "b=int(input(\"Enter size of dict 2 : \"))\n",
    "for i in range(b):\n",
    "    key=input(\"Enter Key : \")\n",
    "    value=input(\"Enter Value : \")\n",
    "    dic1[key]=value\n",
    "    \n",
    "print(dic1|dic2)"
   ]
  },
  {
   "cell_type": "markdown",
   "metadata": {},
   "source": [
    "### 03) WAP to find tuples that have all elements divisible by K from a list of tuples."
   ]
  },
  {
   "cell_type": "code",
   "execution_count": 10,
   "metadata": {},
   "outputs": [
    {
     "name": "stdout",
     "output_type": "stream",
     "text": [
      "[(999, 666, 333)]\n"
     ]
    }
   ],
   "source": [
    "list1 = [(458,65,25), (999,666,333), (88, 99, 111)];\n",
    "    \n",
    "k = int(input(\"Enter the number you want to divide : \"))\n",
    "    \n",
    "result = [i for i in list1 if all(ele % k == 0 for ele in i)]\n",
    "\n",
    "print(result)"
   ]
  },
  {
   "cell_type": "markdown",
   "metadata": {},
   "source": [
    "### 04) WAP to find Tuples with positive elements in List of tuples."
   ]
  },
  {
   "cell_type": "code",
   "execution_count": 12,
   "metadata": {},
   "outputs": [
    {
     "name": "stdout",
     "output_type": "stream",
     "text": [
      "[(7894, 895, 6), (785, 4562, 654, 6549)]\n"
     ]
    }
   ],
   "source": [
    "list1 = [(7, -15, 65), (-789, 2, 4555), (7894, 895, 6), (785, 4562, 654, 6549)];\n",
    "\n",
    "positive_ele = [i for i in list1 if all(ele>= 0 for ele in i)]\n",
    "\n",
    "print(positive_ele)"
   ]
  },
  {
   "cell_type": "markdown",
   "metadata": {},
   "source": [
    "### 05) WAP which perform union of two sets."
   ]
  },
  {
   "cell_type": "code",
   "execution_count": 13,
   "metadata": {},
   "outputs": [
    {
     "name": "stdout",
     "output_type": "stream",
     "text": [
      "{1, 2, 3, 4, 5, 6, 7}\n"
     ]
    }
   ],
   "source": [
    "dic1={1, 2, 3}\n",
    "dic2={4, 5, 6, 7}\n",
    "print(dic1.union(dic2))"
   ]
  },
  {
   "cell_type": "markdown",
   "metadata": {},
   "source": [
    "# B"
   ]
  },
  {
   "cell_type": "markdown",
   "metadata": {},
   "source": [
    "### 01) WAP to convert binary tuple into integer."
   ]
  },
  {
   "cell_type": "code",
   "execution_count": 15,
   "metadata": {},
   "outputs": [
    {
     "name": "stdout",
     "output_type": "stream",
     "text": [
      "7\n"
     ]
    }
   ],
   "source": [
    "tup=(1,1,1)\n",
    "l1=list(map(str,tup))\n",
    "string=''.join(l1)\n",
    "decimal=int(string,2)\n",
    "print(decimal)"
   ]
  },
  {
   "cell_type": "markdown",
   "metadata": {},
   "source": [
    "### 02) WAP to count frequency in list by dictionary."
   ]
  },
  {
   "cell_type": "code",
   "execution_count": 16,
   "metadata": {},
   "outputs": [
    {
     "name": "stdout",
     "output_type": "stream",
     "text": [
      "{'k': 1, 'i': 2, 's': 1, 'h': 1, 'a': 2, 'n': 1, 'm': 1, 'o': 1, 'l': 1, 'y': 1}\n"
     ]
    }
   ],
   "source": [
    "l1=['k','i','s','h','a','n','m','o','l','i','y','a']\n",
    "dic={}\n",
    "for i in l1:\n",
    "    if(i in dic):\n",
    "        dic[i] += 1\n",
    "    else:\n",
    "        dic[i] = 1\n",
    "print(dic)"
   ]
  },
  {
   "cell_type": "markdown",
   "metadata": {},
   "source": [
    "### 03) WAP to remove all the duplicate words from the list using dictionary."
   ]
  },
  {
   "cell_type": "code",
   "execution_count": 17,
   "metadata": {},
   "outputs": [
    {
     "name": "stdout",
     "output_type": "stream",
     "text": [
      "['abc', 'def', 'cde', 'bcd']\n"
     ]
    }
   ],
   "source": [
    "l1=['abc','def','abc','abc','cde','abc','bcd','cde']\n",
    "dic={}\n",
    "for i in l1:\n",
    "    if(i in dic):\n",
    "        dic[i]+=1\n",
    "    else:\n",
    "        dic[i]=1\n",
    "l2=[]\n",
    "for i in dic.items():\n",
    "    l2.append(i[0])\n",
    "print(l2)"
   ]
  }
 ],
 "metadata": {
  "kernelspec": {
   "display_name": "Python 3",
   "language": "python",
   "name": "python3"
  },
  "language_info": {
   "codemirror_mode": {
    "name": "ipython",
    "version": 3
   },
   "file_extension": ".py",
   "mimetype": "text/x-python",
   "name": "python",
   "nbconvert_exporter": "python",
   "pygments_lexer": "ipython3",
   "version": "3.11.0 (main, Oct 24 2022, 18:26:48) [MSC v.1933 64 bit (AMD64)]"
  },
  "vscode": {
   "interpreter": {
    "hash": "5238573367df39f7286bb46f9ff5f08f63a01a80960060ce41e3c79b190280fa"
   }
  }
 },
 "nbformat": 4,
 "nbformat_minor": 4
}
