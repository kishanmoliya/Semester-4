{
 "cells": [
  {
   "cell_type": "markdown",
   "metadata": {},
   "source": [
    "<a href='https://www.darshan.ac.in/'> <img src='https://www.darshan.ac.in/Content/media/DU_Logo.svg' width=\"250\" height=\"300\"/></a>\n",
    "<pre>\n",
    "<center><b><h1>Python Programming - 2101CS405</b></center>\n",
    "<center><b><h1>Lab - 1</b></center>    \n",
    "<pre>"
   ]
  },
  {
   "cell_type": "markdown",
   "metadata": {},
   "source": [
    "### 01) WAP to print “Hello World”"
   ]
  },
  {
   "cell_type": "code",
   "execution_count": 1,
   "metadata": {},
   "outputs": [
    {
     "name": "stdout",
     "output_type": "stream",
     "text": [
      "Hello World\n"
     ]
    }
   ],
   "source": [
    "print(\"Hello World\")"
   ]
  },
  {
   "cell_type": "markdown",
   "metadata": {},
   "source": [
    "### 02) WAP to print your address i) using single print ii) using multiple print"
   ]
  },
  {
   "cell_type": "code",
   "execution_count": 15,
   "metadata": {
    "scrolled": true
   },
   "outputs": [
    {
     "name": "stdout",
     "output_type": "stream",
     "text": [
      "Mahika Gam, \n",
      "near Aajidem Chokdi, \n",
      "Pincode: 360003\n",
      "==============\n",
      "Mahika Gam,\n",
      "near Aajidem Chokdi,\n",
      "Pincode: 360003\n"
     ]
    }
   ],
   "source": [
    "print(\"Mahika Gam, \\nnear Aajidem Chokdi, \\nPincode: 360003\")\n",
    "\n",
    "print(\"==============\")\n",
    "\n",
    "print(\"Mahika Gam,\")\n",
    "print(\"near Aajidem Chokdi,\")\n",
    "print(\"Pincode: 360003\")"
   ]
  },
  {
   "cell_type": "markdown",
   "metadata": {},
   "source": [
    "### 03) WAP to print addition of 2 numbers (without input function)"
   ]
  },
  {
   "cell_type": "code",
   "execution_count": 13,
   "metadata": {},
   "outputs": [
    {
     "name": "stdout",
     "output_type": "stream",
     "text": [
      "The sum of two number =  10\n"
     ]
    }
   ],
   "source": [
    "print(\"The sum of two number = \",5+5)"
   ]
  },
  {
   "cell_type": "markdown",
   "metadata": {},
   "source": [
    "### 04) WAP to calculate and print average of 2 numbers (without input function)"
   ]
  },
  {
   "cell_type": "code",
   "execution_count": 12,
   "metadata": {},
   "outputs": [
    {
     "name": "stdout",
     "output_type": "stream",
     "text": [
      "The average of two number =  5.0\n"
     ]
    }
   ],
   "source": [
    "print(\"The average of two number = \",(5+5)/2)"
   ]
  },
  {
   "cell_type": "markdown",
   "metadata": {},
   "source": [
    "### 05) WAP to add two number entered by user."
   ]
  },
  {
   "cell_type": "code",
   "execution_count": 11,
   "metadata": {},
   "outputs": [
    {
     "name": "stdout",
     "output_type": "stream",
     "text": [
      "Enter The Nimber 1 = 5\n",
      "Enter The Nimber 1 = 5\n",
      "The sum of two Numbers =  10\n"
     ]
    }
   ],
   "source": [
    "a = int(input(\"Enter The Nimber 1 = \"))\n",
    "b = int(input(\"Enter The Nimber 2 = \"))\n",
    "\n",
    "print(\"The sum of two Numbers = \",a+b)"
   ]
  },
  {
   "cell_type": "markdown",
   "metadata": {},
   "source": [
    "### 06) WAP to calculate simple interest."
   ]
  },
  {
   "cell_type": "code",
   "execution_count": 14,
   "metadata": {},
   "outputs": [
    {
     "name": "stdout",
     "output_type": "stream",
     "text": [
      "Enter p = 5\n",
      "Enter n = 5\n",
      "Enter r = 5\n",
      "The simple interest =  1.25\n"
     ]
    }
   ],
   "source": [
    "p = int(input(\"Enter p = \"))\n",
    "n = int(input(\"Enter n = \"))\n",
    "r = int(input(\"Enter r = \"))\n",
    "\n",
    "print(\"The simple interest = \",p*n*r/100)"
   ]
  },
  {
   "cell_type": "markdown",
   "metadata": {},
   "source": [
    "### 07) WAP Calculate Area and Circumfrence of Circle"
   ]
  },
  {
   "cell_type": "code",
   "execution_count": 17,
   "metadata": {},
   "outputs": [
    {
     "name": "stdout",
     "output_type": "stream",
     "text": [
      "Enetr the redis = 5\n",
      "The Area and Circumfrence of Circle 78.5\n"
     ]
    }
   ],
   "source": [
    "radis = int(input(\"Enetr the redis = \"))\n",
    "\n",
    "print(\"The Area and Circumfrence of Circle = \", 2*3.14*radis)"
   ]
  },
  {
   "cell_type": "markdown",
   "metadata": {},
   "source": [
    "### 08) WAP to print Multiplication table of given number without using loops."
   ]
  },
  {
   "cell_type": "code",
   "execution_count": 21,
   "metadata": {},
   "outputs": [
    {
     "name": "stdout",
     "output_type": "stream",
     "text": [
      "Enter The Number = 5\n",
      "5 * 1 = 5\n",
      "5 * 2 = 10\n",
      "5 * 3 = 15\n",
      "5 * 4 = 20\n",
      "5 * 5 = 25\n",
      "5 * 6 = 30\n",
      "5 * 7 = 35\n",
      "5 * 8 = 40\n",
      "5 * 9 = 45\n",
      "5 * 10 = 50\n"
     ]
    }
   ],
   "source": [
    "n = int(input(\"Enter The Number = \"))\n",
    "\n",
    "print(n, \"* 1 =\", n)\n",
    "print(n, \"* 2 =\", n*2)\n",
    "print(n, \"* 3 =\", n*3)\n",
    "print(n, \"* 4 =\", n*4)\n",
    "print(n, \"* 5 =\", n*5)\n",
    "print(n, \"* 6 =\", n*6)\n",
    "print(n, \"* 7 =\", n*7)\n",
    "print(n, \"* 8 =\", n*8)\n",
    "print(n, \"* 9 =\", n*9)\n",
    "print(n, \"* 10 =\", n*10)"
   ]
  },
  {
   "cell_type": "markdown",
   "metadata": {},
   "source": [
    "### 09) WAP to calculate Area of Triangle (hint: a = h * b * 0.5)"
   ]
  },
  {
   "cell_type": "code",
   "execution_count": 22,
   "metadata": {},
   "outputs": [
    {
     "name": "stdout",
     "output_type": "stream",
     "text": [
      "Enter h = 5\n",
      "Enetr b = 5\n",
      "The Area of Triangle =  12.5\n"
     ]
    }
   ],
   "source": [
    "h = int(input(\"Enter h = \"))\n",
    "b = int(input(\"Enetr b = \"))\n",
    "\n",
    "print(\"The Area of Triangle = \",h*b*0.5)"
   ]
  },
  {
   "cell_type": "markdown",
   "metadata": {},
   "source": [
    "### 10) WAP to convert degree to Fahrenheit and vice versa."
   ]
  },
  {
   "cell_type": "code",
   "execution_count": 28,
   "metadata": {},
   "outputs": [
    {
     "name": "stdout",
     "output_type": "stream",
     "text": [
      "Enter Temp in celsius = 100\n",
      "Temp in fahrenheit =  212.0\n",
      "Enter Temp in fahrenheit = 212\n",
      "Temp in celsius =  194.22222222222223\n"
     ]
    }
   ],
   "source": [
    "celsius = float(input(\"Enter Temp in celsius = \"))\n",
    "fahrenheit = celsius * (9/5) +32\n",
    "print(\"Temp in fahrenheit = \",fahrenheit)\n",
    "\n",
    "fahrenheit = float(input(\"Enter Temp in fahrenheit = \"))\n",
    "celsius = fahrenheit-32*(5/9)\n",
    "print(\"Temp in celsius = \",celsius)"
   ]
  },
  {
   "cell_type": "markdown",
   "metadata": {},
   "source": [
    "### 11) WAP to calculate total marks and Percentage."
   ]
  },
  {
   "cell_type": "code",
   "execution_count": 31,
   "metadata": {},
   "outputs": [
    {
     "name": "stdout",
     "output_type": "stream",
     "text": [
      "Enter math mark = 50\n",
      "Enter English mark = 50\n",
      "Enter hindi mark = 50\n",
      "Your total marks =  150\n",
      "Your percentage =  50.0\n"
     ]
    }
   ],
   "source": [
    "math = int(input(\"Enter math mark = \"))\n",
    "enghish = int(input(\"Enter English mark = \"))\n",
    "hindi = int(input(\"Enter hindi mark = \"))\n",
    "\n",
    "total_marks = math+enghish+hindi\n",
    "percentage = total_marks*100/300\n",
    "\n",
    "print(\"Your total marks = \",total_marks)\n",
    "print(\"Your percentage = \",percentage)"
   ]
  },
  {
   "cell_type": "markdown",
   "metadata": {},
   "source": [
    "### 12) Compute distance between two points taking input from the user (Pythagorean Theorem)."
   ]
  },
  {
   "cell_type": "code",
   "execution_count": 2,
   "metadata": {},
   "outputs": [
    {
     "name": "stdout",
     "output_type": "stream",
     "text": [
      "Enter x1 = 6\n",
      "Enter x2 = 0\n",
      "Enter y1 = 4\n",
      "Enter y2 = 6\n",
      "Distance between (6, 0) and (4, 6) is =  6.324555320336759\n"
     ]
    }
   ],
   "source": [
    "x1 = int(input(\"Enter x1 = \"))\n",
    "x2 = int(input(\"Enter x2 = \"))\n",
    "y1 = int(input(\"Enter y1 = \"))\n",
    "y2 = int(input(\"Enter y2 = \"))\n",
    "\n",
    "distance = ((((x2-x1)**2)+((y2-y1)**2))**0.5)\n",
    "\n",
    "print(\"Distance between\",(x1,x2), \"and\", (y1,y2), \"is = \",distance)"
   ]
  },
  {
   "cell_type": "markdown",
   "metadata": {},
   "source": [
    "### 13) WAP to convert seconds into hours, minutes & seconds and print in HH:MM:SS\n",
    "[e.g. 10000 seconds mean 2:46:40 (2 Hours, 46 Minutes, 40Seconds)]"
   ]
  },
  {
   "cell_type": "code",
   "execution_count": 3,
   "metadata": {},
   "outputs": [
    {
     "name": "stdout",
     "output_type": "stream",
     "text": [
      "Enter Time in Second = 10000\n",
      "2 Hour 46 Minutes 40 Second\n"
     ]
    }
   ],
   "source": [
    "second = int(input(\"Enter Time in Second = \"))\n",
    "\n",
    "hour = second//3600\n",
    "x = second%3600\n",
    "minutes = x//60\n",
    "y = x%60\n",
    "second = y\n",
    "\n",
    "print(hour,\"Hour\",minutes,\"Minutes\",second,\"Second\")"
   ]
  },
  {
   "cell_type": "markdown",
   "metadata": {},
   "source": [
    "### 14) WAP to enter distance into kilometer and convert it into meter, feet,inches, and centimeter"
   ]
  },
  {
   "cell_type": "code",
   "execution_count": 4,
   "metadata": {},
   "outputs": [
    {
     "name": "stdout",
     "output_type": "stream",
     "text": [
      "Enter Distance in Kilometer = 50\n",
      "Meters =  50000\n",
      "Feets =  164042.0\n",
      "Inches =  1968505.0\n",
      "Centimeter =  5000000\n"
     ]
    }
   ],
   "source": [
    "kilo_meters = int(input(\"Enter Distance in Kilometer = \"))\n",
    "\n",
    "print(\"Meters = \",kilo_meters*1000)\n",
    "print(\"Feets = \",kilo_meters*3280.84)\n",
    "print(\"Inches = \",kilo_meters*39370.1)\n",
    "print(\"Centimeter = \",kilo_meters*100000)"
   ]
  }
 ],
 "metadata": {
  "kernelspec": {
   "display_name": "Python 3 (ipykernel)",
   "language": "python",
   "name": "python3"
  },
  "language_info": {
   "codemirror_mode": {
    "name": "ipython",
    "version": 3
   },
   "file_extension": ".py",
   "mimetype": "text/x-python",
   "name": "python",
   "nbconvert_exporter": "python",
   "pygments_lexer": "ipython3",
   "version": "3.9.13"
  },
  "vscode": {
   "interpreter": {
    "hash": "5238573367df39f7286bb46f9ff5f08f63a01a80960060ce41e3c79b190280fa"
   }
  }
 },
 "nbformat": 4,
 "nbformat_minor": 4
}
