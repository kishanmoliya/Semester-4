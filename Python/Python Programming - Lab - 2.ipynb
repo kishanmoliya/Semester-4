{
 "cells": [
  {
   "cell_type": "markdown",
   "metadata": {},
   "source": [
    "\n",
    "<a href='https://www.darshan.ac.in/'> <img src='https://www.darshan.ac.in/Content/media/DU_Logo.svg' width=\"250\" height=\"300\"/></a>\n",
    "<pre>\n",
    "<center><b><h1>Python Programming - 2101CS405</b></center>\n",
    "<center><b><h1>Lab - 2</b></center>    \n",
    "<pre>"
   ]
  },
  {
   "cell_type": "markdown",
   "metadata": {},
   "source": [
    "# if..else.."
   ]
  },
  {
   "cell_type": "markdown",
   "metadata": {},
   "source": [
    "### 01) WAP to check whether the given number is positive or negative."
   ]
  },
  {
   "cell_type": "code",
   "execution_count": 1,
   "metadata": {},
   "outputs": [
    {
     "name": "stdout",
     "output_type": "stream",
     "text": [
      "Enter the number = -11\n",
      "-11 is Negative\n"
     ]
    }
   ],
   "source": [
    "number = int(input(\"Enter the number = \"))\n",
    "\n",
    "if(number > 0):\n",
    "    print(number,\"is positive\")\n",
    "elif(number < 0):\n",
    "    print(number,\"is Negative\")\n",
    "else:\n",
    "    print(\"Zero\")"
   ]
  },
  {
   "cell_type": "markdown",
   "metadata": {},
   "source": [
    "### 02) WAP to check whether the given number is odd or even"
   ]
  },
  {
   "cell_type": "code",
   "execution_count": 2,
   "metadata": {},
   "outputs": [
    {
     "name": "stdout",
     "output_type": "stream",
     "text": [
      "Enter the number = 17\n",
      "17 is Odd.\n"
     ]
    }
   ],
   "source": [
    "number = int(input(\"Enter the number = \"))\n",
    "\n",
    "if(number % 2 == 0):\n",
    "    print(number,\"is Even.\")\n",
    "else:\n",
    "    print(number,\"is Odd.\")"
   ]
  },
  {
   "cell_type": "markdown",
   "metadata": {},
   "source": [
    "### 03) WAP to find out largest number from given two numbers using simple if and ternary operator."
   ]
  },
  {
   "cell_type": "code",
   "execution_count": 3,
   "metadata": {},
   "outputs": [
    {
     "name": "stdout",
     "output_type": "stream",
     "text": [
      "Enter the number = 5\n",
      "Enter the number = 10\n",
      "number2 is Largest.\n",
      "10 is larjest\n"
     ]
    }
   ],
   "source": [
    "number1 = int(input(\"Enter the number = \"))\n",
    "number2 = int(input(\"Enter the number = \"))\n",
    "\n",
    "# Using Simple If\n",
    "if(number1 > number2):\n",
    "    print(\"number1 is Largest.\")\n",
    "if(number2 > number1):\n",
    "    print(\"number2 is Largest.\")\n",
    "if(number1 == number2):\n",
    "    print(\"Both are Equal\")\n",
    "\n",
    "#Using Ternary Operator\n",
    "largest = number1 if number1 > number2 else number2\n",
    "print(largest,\"is larjest\")"
   ]
  },
  {
   "cell_type": "markdown",
   "metadata": {},
   "source": [
    "### 04) WAP to find out largest number from given three numbers."
   ]
  },
  {
   "cell_type": "code",
   "execution_count": 4,
   "metadata": {},
   "outputs": [
    {
     "name": "stdout",
     "output_type": "stream",
     "text": [
      "Enter the number = 56\n",
      "Enter the number = 85\n",
      "Enter the number = 23\n",
      "number2 is Larjest.\n"
     ]
    }
   ],
   "source": [
    "number1 = int(input(\"Enter the number = \"))\n",
    "number2 = int(input(\"Enter the number = \"))\n",
    "number3 = int(input(\"Enter the number = \"))\n",
    "\n",
    "if(number1 > number2 and number1 > number3):\n",
    "    print(\"number1 is Larjest.\")\n",
    "elif(number2 > number1 and number2 > number3):\n",
    "    print(\"number2 is Larjest.\")\n",
    "else:\n",
    "    print(\"number3 is Larjest.\")"
   ]
  },
  {
   "cell_type": "markdown",
   "metadata": {},
   "source": [
    "### 05) WAP to check whether the given year is leap year or not.\n",
    "[If a year can be divisible by 4 but not divisible by 100 then it is leap year but if it is divisible by 400 then it is leap year]"
   ]
  },
  {
   "cell_type": "code",
   "execution_count": 5,
   "metadata": {},
   "outputs": [
    {
     "name": "stdout",
     "output_type": "stream",
     "text": [
      "Enter the number = 2012\n",
      "2012 is Leap Year\n"
     ]
    }
   ],
   "source": [
    "year = int(input(\"Enter the number = \"))\n",
    "\n",
    "if((year%4 == 0 and year%100 != 100) or year%400 == 0):\n",
    "    print(year,\"is Leap Year\")\n",
    "else:\n",
    "    print(year,\"is Not Leap Year\")"
   ]
  },
  {
   "cell_type": "markdown",
   "metadata": {},
   "source": [
    "### 06) WAP in python to display the name of the day according to the number given by the user"
   ]
  },
  {
   "cell_type": "code",
   "execution_count": 6,
   "metadata": {},
   "outputs": [
    {
     "name": "stdout",
     "output_type": "stream",
     "text": [
      "Enter Numner = 4\n",
      "Wednesday\n"
     ]
    }
   ],
   "source": [
    "number = int(input(\"Enter Numner = \"))\n",
    "\n",
    "if(number == 1):\n",
    "    print(\"Sunday\")\n",
    "elif(number == 2):\n",
    "    print(\"Monday\")\n",
    "elif(number == 3):\n",
    "    print(\"Tuesday\")\n",
    "elif(number == 4):\n",
    "    print(\"Wednesday\")\n",
    "elif(number == 5):\n",
    "    print(\"Thrusday\")\n",
    "elif(number == 6):\n",
    "    print(\"Friday\")\n",
    "elif(number == 7):\n",
    "    print(\"Saturday\")\n",
    "else:\n",
    "    print(\"Please Enter between 1 to 7\")"
   ]
  },
  {
   "cell_type": "markdown",
   "metadata": {},
   "source": [
    "### 07) WAP to implement simple calculator which performs (add,sub,mul,div) of two no. based on user input."
   ]
  },
  {
   "cell_type": "code",
   "execution_count": 7,
   "metadata": {},
   "outputs": [
    {
     "name": "stdout",
     "output_type": "stream",
     "text": [
      "Enter the number = 50\n",
      "Enter the number = 50\n",
      "Enter your Choice => (add,sub,mul,div)mul\n",
      "Mul of 50 and 50 = 2500\n"
     ]
    }
   ],
   "source": [
    "number1 = int(input(\"Enter the number = \"))\n",
    "number2 = int(input(\"Enter the number = \"))\n",
    "choice = input(\"Enter your Choice => (add,sub,mul,div)\")\n",
    "\n",
    "if(choice == \"add\"):\n",
    "    print(\"Sum of\",number1,\"and\",number2,\"=\",number1+number2)\n",
    "elif(choice == \"sub\"):\n",
    "    print(\"Sub of\",number1,\"and\",number2,\"=\",number1-number2)\n",
    "elif(choice == \"mul\"):\n",
    "    print(\"Mul of\",number1,\"and\",number2,\"=\",number1*number2)\n",
    "elif(choice == \"div\"):\n",
    "    print(\"Div of\",number1,\"and\",number2,\"=\",number1/number2)\n",
    "else:\n",
    "    print(\"Please Enter the valid Operation\")"
   ]
  },
  {
   "cell_type": "markdown",
   "metadata": {},
   "source": [
    "### 08) WAP to calculate electricity bill based on following criteria. Which takes the unit from the user.\n",
    "a. First 1 to 50 units – Rs. 2.60/unit</br>\n",
    "b. Next 50 to 100 units – Rs. 3.25/unit</br>\n",
    "c. Next 100 to 200 units – Rs. 5.26/unit</br>\n",
    "d. above 200 units – Rs. 8.45/unit"
   ]
  },
  {
   "cell_type": "code",
   "execution_count": 8,
   "metadata": {},
   "outputs": [
    {
     "name": "stdout",
     "output_type": "stream",
     "text": [
      "Enter the Unit177\n",
      "Your bill =  931.02\n"
     ]
    }
   ],
   "source": [
    "unit = int(input(\"Enter the Unit\"))\n",
    "\n",
    "if(unit >= 1 and unit <= 50):\n",
    "    print(\"Your bill = \",unit*2.60)\n",
    "elif(unit > 50 and unit <= 100):\n",
    "    print(\"Your bill = \",unit*3.25)\n",
    "elif(unit > 100 and unit <= 200):\n",
    "    print(\"Your bill = \",unit*5.26)\n",
    "else:\n",
    "    print(\"Your bill = \",unit*8.45)\n",
    "\n"
   ]
  },
  {
   "cell_type": "markdown",
   "metadata": {},
   "source": [
    "### 01) WAP to read marks of five subjects. Calculate percentage and print class accordingly. \n",
    "Fail below 35 </br>\n",
    "Pass Class between 35 to 45 </br>\n",
    "Second Class</br>\n",
    "between 45 to 60</br>\n",
    "First Class between 60 to 70</br> \n",
    "Distinction if more than 70"
   ]
  },
  {
   "cell_type": "code",
   "execution_count": 9,
   "metadata": {},
   "outputs": [
    {
     "name": "stdout",
     "output_type": "stream",
     "text": [
      "Eneter Sub 1 Marks56\n",
      "Eneter Sub 2 Marks89\n",
      "Eneter Sub 3 Marks56\n",
      "Eneter Sub 4 Marks77\n",
      "Eneter Sub 5 Marks99\n",
      "Distinction\n"
     ]
    }
   ],
   "source": [
    "sub1 = int(input(\"Eneter Sub 1 Marks = \"))\n",
    "sub2 = int(input(\"Eneter Sub 2 Marks = \"))\n",
    "sub3 = int(input(\"Eneter Sub 3 Marks = \"))\n",
    "sub4 = int(input(\"Eneter Sub 4 Marks = \"))\n",
    "sub5 = int(input(\"Eneter Sub 5 Marks = \"))\n",
    "\n",
    "percentage = (sub1+sub2+sub3+sub4+sub5)*100/500\n",
    "\n",
    "if(percentage < 35):\n",
    "    print(\"You are Fail\")\n",
    "elif(percentage >=35 and percentage < 45):\n",
    "    print(\"Pass\")\n",
    "elif(percentage >=45 and percentage < 60):\n",
    "    print(\"Second Class\")\n",
    "elif(percentage >=60 and percentage < 70):\n",
    "    print(\"First Class\")\n",
    "else:\n",
    "    print(\"Distinction\")"
   ]
  },
  {
   "cell_type": "markdown",
   "metadata": {},
   "source": [
    "### 02) WAP to find out the Maximum and Minimum number from given 4 numbers."
   ]
  },
  {
   "cell_type": "code",
   "execution_count": 21,
   "metadata": {},
   "outputs": [
    {
     "name": "stdout",
     "output_type": "stream",
     "text": [
      "Number '1' is Larjest\n"
     ]
    }
   ],
   "source": [
    "num1 = int(input(\"Eneter Sub 2 Marks\"))\n",
    "num2 = int(input(\"Eneter Sub 3 Marks\"))\n",
    "num3 = int(input(\"Eneter Sub 1 Marks\"))\n",
    "num4 = int(input(\"Eneter Sub 4 Marks\"))\n",
    "\n",
    "if(num1 > num2 and num1 > num3 and num1 > num4):\n",
    "    print(\"Number '1' is Larjest\")\n",
    "elif(num2 > num1 and num2 > num3 and num2 > num4):\n",
    "    print(\"Number '2' is Larjest\")\n",
    "elif(num3 > num2 and num3 > num1 and num3 > num4):\n",
    "    print(\"Number '3' is Larjest\")\n",
    "else:\n",
    "    print(\"Number '4' is Larjest\")"
   ]
  },
  {
   "cell_type": "markdown",
   "metadata": {},
   "source": [
    "### 03) WAP to input an integer number and check the last digit of number is even or odd."
   ]
  },
  {
   "cell_type": "code",
   "execution_count": 25,
   "metadata": {},
   "outputs": [
    {
     "name": "stdout",
     "output_type": "stream",
     "text": [
      "Last Digit is 7 and it is Odd\n"
     ]
    }
   ],
   "source": [
    "number = int(input(\"Enter the number\"))\n",
    "\n",
    "last_digit = number%10\n",
    "\n",
    "if(last_digit%2 == 0):\n",
    "    print(\"Last Digit is\",last_digit,\"and it is Even\")\n",
    "else:\n",
    "    print(\"Last Digit is\",last_digit,\"and it is Odd\")"
   ]
  },
  {
   "cell_type": "markdown",
   "metadata": {},
   "source": [
    "### 04) WAP to determine the roots of the equation ax2+bx+c=0."
   ]
  },
  {
   "cell_type": "code",
   "execution_count": 26,
   "metadata": {},
   "outputs": [
    {
     "name": "stdout",
     "output_type": "stream",
     "text": [
      "Complex Roots\n",
      "-0.5 +i -75.0\n",
      "-0.5 -i -75.0\n"
     ]
    }
   ],
   "source": [
    "import cmath\n",
    "\n",
    "a = float(input('Enter a: '))  \n",
    "b = float(input('Enter b: '))  \n",
    "c = float(input('Enter c: '))  \n",
    "   \n",
    "d = (b**2) - (4*a*c)  \n",
    "   \n",
    "if d > 0:\n",
    "    print(\"Real Roots\")\n",
    "    print(-b+d)/(2*a)\n",
    "    print(-b-d)/(2*a)\n",
    "elif d == 0:\n",
    "    print(\"Real & Same Roots : \", (-b)/(2*a))\n",
    "elif d < 0:\n",
    "    print(\"Complex Roots\")\n",
    "    print(-b/(2*a), \"+i\", d)\n",
    "    print(-b/(2*a), \"-i\", d) "
   ]
  },
  {
   "cell_type": "markdown",
   "metadata": {},
   "source": []
  }
 ],
 "metadata": {
  "kernelspec": {
   "display_name": "Python 3 (ipykernel)",
   "language": "python",
   "name": "python3"
  },
  "language_info": {
   "codemirror_mode": {
    "name": "ipython",
    "version": 3
   },
   "file_extension": ".py",
   "mimetype": "text/x-python",
   "name": "python",
   "nbconvert_exporter": "python",
   "pygments_lexer": "ipython3",
   "version": "3.11.0 (main, Oct 24 2022, 18:26:48) [MSC v.1933 64 bit (AMD64)]"
  },
  "vscode": {
   "interpreter": {
    "hash": "5238573367df39f7286bb46f9ff5f08f63a01a80960060ce41e3c79b190280fa"
   }
  }
 },
 "nbformat": 4,
 "nbformat_minor": 4
}
