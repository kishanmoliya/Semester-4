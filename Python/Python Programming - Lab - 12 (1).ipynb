{
 "cells": [
  {
   "cell_type": "markdown",
   "metadata": {},
   "source": [
    "<a href='https://www.darshan.ac.in/'> <img src='https://www.darshan.ac.in/Content/media/DU_Logo.svg' width=\"250\" height=\"300\"/></a>\n",
    "<pre>\n",
    "<center><b><h1>Python Programming - 2101CS405</b></center>\n",
    "<center><b><h1>Lab - 12</b></center>    \n",
    "<pre>"
   ]
  },
  {
   "cell_type": "markdown",
   "metadata": {},
   "source": [
    "# OOP"
   ]
  },
  {
   "cell_type": "markdown",
   "metadata": {},
   "source": [
    "### 01) Write a Program to create a class by name Students, and initialize attributes like name, age, and grade while creating an object."
   ]
  },
  {
   "cell_type": "code",
   "execution_count": 3,
   "metadata": {},
   "outputs": [
    {
     "name": "stdout",
     "output_type": "stream",
     "text": [
      "Name : kishan\n",
      "Age : 19\n",
      "Grade : A\n"
     ]
    }
   ],
   "source": [
    "class Student:\n",
    "    name = 'kishan'\n",
    "    age = 19\n",
    "    grade = 'A'\n",
    "    \n",
    "    def __init__(self, name, age, grade):\n",
    "        self.name = name\n",
    "        self.age = age\n",
    "        self.grade = grade\n",
    "        print('Name :',self.name)\n",
    "        print('Age :',self.age)\n",
    "        print('Grade :',self.grade)\n",
    "        \n",
    "obj = Student('kishan',19,'A')"
   ]
  },
  {
   "cell_type": "markdown",
   "metadata": {},
   "source": [
    "### 02) Create a class named Bank_Account with Account_No, User_Name, Email,Account_Type and Account_Balance data members. Also create a method GetAccountDetails() and DisplayAccountDetails(). Create main method to demonstrate the Bank_Account class."
   ]
  },
  {
   "cell_type": "code",
   "execution_count": 9,
   "metadata": {},
   "outputs": [
    {
     "name": "stdout",
     "output_type": "stream",
     "text": [
      "Enter Account_NO =21010101128\n",
      "Enter User_Name =kishan\n",
      "Enter Email =kishanmoliya232@gmail.com\n",
      "Enter Account_Type =open\n",
      "Enter Account_Balance =500000.00\n",
      "Account_No = 21010101128\n",
      "User_Name = kishan\n",
      "Email = kishanmoliya232@gmail.com\n",
      "Account_Type = open\n",
      "Account_Balance = 500000.0\n"
     ]
    }
   ],
   "source": [
    "class Bank_Account:\n",
    "    Account_No = 0\n",
    "    User_Name = ''\n",
    "    Email = ''\n",
    "    Account_Type = ''\n",
    "    Account_Balance = 0.0\n",
    "    \n",
    "    def getAccountDetails(self):\n",
    "        self.Account_No = int(input(\"Enter Account_NO = \"))\n",
    "        self.User_Name = input(\"Enter User_Name = \")\n",
    "        self.Email = input(\"Enter Email = \")\n",
    "        self.Account_Type = input(\"Enter Account_Type = \")\n",
    "        self.Account_Balance = float(input(\"Enter Account_Balance = \"))\n",
    "        \n",
    "    def displayAccountDetails(self):\n",
    "        print(\"-----Account Details--------\")\n",
    "        print('Account_No =', self.Account_No)\n",
    "        print('User_Name =', self.User_Name)\n",
    "        print('Email =', self.Email)\n",
    "        print('Account_Type =', self.Account_Type)\n",
    "        print('Account_Balance =', self.Account_Balance)\n",
    "    \n",
    "    def main(self):\n",
    "        self.getAccountDetails()\n",
    "        self.displayAccountDetails()\n",
    "        \n",
    "obj = Bank_Account()\n",
    "obj.main()"
   ]
  },
  {
   "cell_type": "markdown",
   "metadata": {},
   "source": [
    "### 03) WAP to create Circle class with area and perimeter function to find area and perimeter of circle."
   ]
  },
  {
   "cell_type": "code",
   "execution_count": 11,
   "metadata": {},
   "outputs": [
    {
     "name": "stdout",
     "output_type": "stream",
     "text": [
      "Area of Circle = 78.5\n",
      "periMeter of Circle = 31.400000000000002\n"
     ]
    }
   ],
   "source": [
    "class Circle:\n",
    "    radius = 0.0\n",
    "    \n",
    "    def __init__(self,radius):\n",
    "        self.radius = radius\n",
    "        \n",
    "    def area(self):\n",
    "        print('Area of Circle =',self.radius * self.radius * 3.14)\n",
    "        \n",
    "    def periMeter(self):\n",
    "        print('periMeter of Circle =',self.radius * 2 * 3.14)\n",
    "        \n",
    "obj = Circle(5)\n",
    "obj.area()\n",
    "obj.periMeter()"
   ]
  },
  {
   "cell_type": "markdown",
   "metadata": {},
   "source": [
    "### 04) Create a class for employees that includes attributes such as name, age, salary, and methods to update and display employee information."
   ]
  },
  {
   "cell_type": "code",
   "execution_count": 4,
   "metadata": {},
   "outputs": [
    {
     "name": "stdout",
     "output_type": "stream",
     "text": [
      "Name = raju\n",
      "Age = 19\n",
      "Salary = 45613.456\n"
     ]
    }
   ],
   "source": [
    "class Employess:\n",
    "    name = 'kishan'\n",
    "    age = 19\n",
    "    salary = 45613.00\n",
    "    \n",
    "    def updateData(self, name, age, salary):\n",
    "        self.name = name\n",
    "        self.age = age\n",
    "        self.salary = salary\n",
    "        \n",
    "    def printData(self):\n",
    "        print('Name =', self.name)\n",
    "        print('Age =', self.age)\n",
    "        print('Salary =', self.salary)\n",
    "\n",
    "        \n",
    "obj = Employess()\n",
    "obj.updateData('raju', 19, 45613.456)\n",
    "obj.printData()"
   ]
  },
  {
   "cell_type": "markdown",
   "metadata": {},
   "source": [
    "### 05) Create a bank account class with methods to deposit, withdraw, and check balance."
   ]
  },
  {
   "cell_type": "code",
   "execution_count": 27,
   "metadata": {},
   "outputs": [
    {
     "name": "stdout",
     "output_type": "stream",
     "text": [
      "Enter the Deposit Ammount : 46542\n",
      "Enter the Withdrawal Ammount : 4567324\n",
      "You have not enough Balance! 😒😒😒\n",
      "Your Current Balance is: 56542.0\n"
     ]
    }
   ],
   "source": [
    "class BankAccount:\n",
    "    balance = 10000.00\n",
    "    \n",
    "    def deposit(self):\n",
    "        self.deposit = float(input('Enter the Deposit Ammount : '))\n",
    "        self.balance += self.deposit\n",
    "\n",
    "    def withdraw(self):\n",
    "        self.withdraw = float(input('Enter the Withdrawal Ammount : '))\n",
    "        if(self.withdraw > self.balance):\n",
    "            print('You have not enough Balance! 😒😒😒')\n",
    "        else:\n",
    "            self.balance -= self.withdraw\n",
    "\n",
    "    def check(self):\n",
    "        print(\"Your Remaining Balance is:\",self.balance)\n",
    "\n",
    "    \n",
    "obj = BankAccount()\n",
    "obj.deposit()\n",
    "obj.withdraw()\n",
    "obj.check()"
   ]
  },
  {
   "cell_type": "code",
   "execution_count": null,
   "metadata": {},
   "outputs": [],
   "source": []
  },
  {
   "cell_type": "code",
   "execution_count": null,
   "metadata": {},
   "outputs": [],
   "source": []
  },
  {
   "cell_type": "code",
   "execution_count": null,
   "metadata": {},
   "outputs": [],
   "source": []
  },
  {
   "cell_type": "markdown",
   "metadata": {},
   "source": [
    "### 06) Create a class for managing inventory that includes attributes such as item name, price, quantity, and methods to add, remove, and update items."
   ]
  },
  {
   "cell_type": "code",
   "execution_count": null,
   "metadata": {},
   "outputs": [],
   "source": []
  },
  {
   "cell_type": "markdown",
   "metadata": {},
   "source": [
    "### 09) Create a Class with instance attributes"
   ]
  },
  {
   "cell_type": "code",
   "execution_count": null,
   "metadata": {},
   "outputs": [],
   "source": []
  },
  {
   "cell_type": "markdown",
   "metadata": {},
   "source": [
    "### 07)\n",
    "Create one class student_kit <br>\n",
    "Within the student_kit class create one class attribute principal name ( Mr ABC ) <br>\n",
    "Create one attendance method and take input as number of days. <br>\n",
    "While creating student take input their name . <br>\n",
    "Create one certificate for each student by taking input of number of days present in class. <br>"
   ]
  },
  {
   "cell_type": "code",
   "execution_count": null,
   "metadata": {},
   "outputs": [],
   "source": []
  },
  {
   "cell_type": "markdown",
   "metadata": {},
   "source": [
    "### 08) Define Time class with hour and minute as data member. Also define addition method to add two time objects."
   ]
  },
  {
   "cell_type": "code",
   "execution_count": null,
   "metadata": {},
   "outputs": [],
   "source": []
  },
  {
   "cell_type": "markdown",
   "metadata": {},
   "source": [
    "### 09) WAP to demonstrate inheritance in python."
   ]
  },
  {
   "cell_type": "code",
   "execution_count": null,
   "metadata": {},
   "outputs": [],
   "source": []
  },
  {
   "cell_type": "markdown",
   "metadata": {},
   "source": [
    "### 10) Create a child class Bus that will inherit all of the variables and methods of the Vehicle class\n",
    "class Vehicle:\n",
    "\n",
    "    def __init__(self, name, max_speed, mileage):\n",
    "        self.name = name\n",
    "        self.max_speed = max_speed\n",
    "        self.mileage = mileage\n",
    "        \n",
    "Create a Bus object that will inherit all of the variables and methods of the parent Vehicle class and display it.        "
   ]
  },
  {
   "cell_type": "code",
   "execution_count": 18,
   "metadata": {},
   "outputs": [
    {
     "name": "stdout",
     "output_type": "stream",
     "text": [
      "Bick : Hayabusha\n",
      "max_speed : 300\n",
      "mileage : 3\n"
     ]
    }
   ],
   "source": [
    "class Vehical:\n",
    "    def __init__(self, name, max_speed, mileage):\n",
    "        self.name = name  \n",
    "        self.max_speed = max_speed\n",
    "        self.mileage = mileage\n",
    "    \n",
    "class Bus(Vehical):\n",
    "    def printDetails(self):\n",
    "        print('Bick :',self.name)\n",
    "        print('max_speed :',self.max_speed)\n",
    "        print('mileage :',self.mileage)\n",
    "    \n",
    "b= Bus('hayabusa', 300, 3)\n",
    "b.printDetails()"
   ]
  },
  {
   "cell_type": "markdown",
   "metadata": {},
   "source": [
    "### 11)  Create a class hierarchy for different types of animals, with a parent Animal class and child classes for specific animals like Cat, Dog, and Bird."
   ]
  },
  {
   "cell_type": "code",
   "execution_count": null,
   "metadata": {},
   "outputs": [],
   "source": [
    "class Animal:\n",
    "    pass\n",
    "class Cat(Animal):\n",
    "    pass\n",
    "class Dog(Animal):\n",
    "    pass\n",
    "class tiger(Animal):\n",
    "    pass"
   ]
  },
  {
   "cell_type": "markdown",
   "metadata": {},
   "source": [
    "### 12) Create a class hierarchy for different types of vehicles, with a parent Vehicle class and child classes for specific vehicles like Car, Truck, and Motorcycle."
   ]
  },
  {
   "cell_type": "code",
   "execution_count": null,
   "metadata": {},
   "outputs": [],
   "source": [
    "class Vehical:\n",
    "    pass\n",
    "class Car(Vehical):\n",
    "    pass\n",
    "class Truck(Vehical):\n",
    "    pass\n",
    "class Motorcycle(Vehical):\n",
    "    pass"
   ]
  },
  {
   "cell_type": "markdown",
   "metadata": {},
   "source": [
    "### 13)  Create a class hierarchy for different types of bank accounts, with a parent Account class and child classes for specific account types like Checking, Savings, and Credit."
   ]
  },
  {
   "cell_type": "code",
   "execution_count": null,
   "metadata": {},
   "outputs": [],
   "source": []
  },
  {
   "cell_type": "markdown",
   "metadata": {},
   "source": [
    "### 14) Create a Shape class with a draw method that is not implemented. Create three child classes Rectangle, Circle, and Triangle that implement the draw method with their respective drawing behaviors. Create a list of Shape objects that includes one instance of each child class, and then iterate through the list and call the draw method on each object."
   ]
  },
  {
   "cell_type": "code",
   "execution_count": null,
   "metadata": {},
   "outputs": [],
   "source": []
  },
  {
   "cell_type": "markdown",
   "metadata": {},
   "source": [
    "### 15) Create a Person class with a constructor that takes two arguments name and age. Create a child class Employee that inherits from Person and adds a new attribute salary. Override the __init__ method in Employee to call the parent class's __init__ method using the super keyword, and then initialize the salary attribute."
   ]
  },
  {
   "cell_type": "code",
   "execution_count": null,
   "metadata": {},
   "outputs": [],
   "source": []
  }
 ],
 "metadata": {
  "kernelspec": {
   "display_name": "Python 3 (ipykernel)",
   "language": "python",
   "name": "python3"
  },
  "language_info": {
   "codemirror_mode": {
    "name": "ipython",
    "version": 3
   },
   "file_extension": ".py",
   "mimetype": "text/x-python",
   "name": "python",
   "nbconvert_exporter": "python",
   "pygments_lexer": "ipython3",
   "version": "3.9.12"
  }
 },
 "nbformat": 4,
 "nbformat_minor": 4
}
