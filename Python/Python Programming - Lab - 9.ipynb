{
 "cells": [
  {
   "cell_type": "markdown",
   "metadata": {},
   "source": [
    "<a href='https://www.darshan.ac.in/'> <img src='https://www.darshan.ac.in/Content/media/DU_Logo.svg' width=\"250\" height=\"300\"/></a>\n",
    "<pre>\n",
    "<center><b><h1>Python Programming - 2101CS405</b></center>\n",
    "<center><b><h1>Lab - 9</b></center>    \n",
    "<pre>"
   ]
  },
  {
   "cell_type": "markdown",
   "metadata": {},
   "source": [
    "# Exception Handling"
   ]
  },
  {
   "cell_type": "markdown",
   "metadata": {},
   "source": [
    "# A"
   ]
  },
  {
   "cell_type": "markdown",
   "metadata": {},
   "source": [
    "### 01) WAP to handle divide by zero exception."
   ]
  },
  {
   "cell_type": "code",
   "execution_count": 2,
   "metadata": {},
   "outputs": [
    {
     "name": "stdout",
     "output_type": "stream",
     "text": [
      "division by zero\n"
     ]
    }
   ],
   "source": [
    "try:\n",
    "    5/0\n",
    "except ZeroDivisionError as e:\n",
    "    print(e)    "
   ]
  },
  {
   "cell_type": "markdown",
   "metadata": {},
   "source": [
    "### 02)  Write a Python program that inputs a number and generates an error message if it is not a number."
   ]
  },
  {
   "cell_type": "code",
   "execution_count": 4,
   "metadata": {},
   "outputs": [
    {
     "name": "stdout",
     "output_type": "stream",
     "text": [
      "Enter the Number : kishan\n",
      "invalid literal for int() with base 10: 'kishan'\n"
     ]
    }
   ],
   "source": [
    "try:\n",
    "    n = int(input(\"Enter the Number : \"))\n",
    "except ValueError as e:\n",
    "    print(e)"
   ]
  },
  {
   "cell_type": "markdown",
   "metadata": {},
   "source": [
    "### 03) WAP to handle file not found Exception"
   ]
  },
  {
   "cell_type": "code",
   "execution_count": 14,
   "metadata": {},
   "outputs": [
    {
     "name": "stdout",
     "output_type": "stream",
     "text": [
      "[Errno 2] No such file or directory: 'python2.txt'\n"
     ]
    }
   ],
   "source": [
    "try:\n",
    "    f = open(\"python2.txt\")\n",
    "except FileNotFoundError as e:\n",
    "    print(e)\n",
    "else:\n",
    "    data = f.read()\n",
    "    print(data)"
   ]
  },
  {
   "cell_type": "markdown",
   "metadata": {},
   "source": [
    "### 04) WAP to handle type Exception."
   ]
  },
  {
   "cell_type": "code",
   "execution_count": 15,
   "metadata": {},
   "outputs": [
    {
     "name": "stdout",
     "output_type": "stream",
     "text": [
      "Enter the String : royal\n",
      "Enter the Number : 45\n",
      "can only concatenate str (not \"int\") to str\n"
     ]
    }
   ],
   "source": [
    "try:\n",
    "    a = input(\"Enter the String : \")\n",
    "    b = int(input(\"Enter the Number : \"))\n",
    "    c = a + b\n",
    "except TypeError as e:\n",
    "    print(e)\n",
    "else:\n",
    "    print(c)"
   ]
  },
  {
   "cell_type": "markdown",
   "metadata": {},
   "source": [
    "### 05) WAP to demonstrate valueError and indexError with example."
   ]
  },
  {
   "cell_type": "code",
   "execution_count": 33,
   "metadata": {},
   "outputs": [
    {
     "name": "stdout",
     "output_type": "stream",
     "text": [
      "Enter the String = 5\n",
      "string index out of range\n"
     ]
    }
   ],
   "source": [
    "try:\n",
    "    s = input(\"Enter the String = \")\n",
    "    print(s[len(s)+1])\n",
    "except(ValueError, IndexError) as e:\n",
    "    print(e)"
   ]
  },
  {
   "cell_type": "markdown",
   "metadata": {},
   "source": [
    "### 06) WAP to domonstrate else  and finally block."
   ]
  },
  {
   "cell_type": "code",
   "execution_count": 34,
   "metadata": {},
   "outputs": [
    {
     "name": "stdout",
     "output_type": "stream",
     "text": [
      "Enter the String : kishanf\n",
      "Enter the Number : 5\n",
      "can only concatenate str (not \"int\") to str\n",
      "ok\n"
     ]
    }
   ],
   "source": [
    "try:\n",
    "    a = input(\"Enter the String : \")\n",
    "    b = int(input(\"Enter the Number : \"))\n",
    "    c = a + b\n",
    "except TypeError as e:\n",
    "    print(e)\n",
    "else:\n",
    "    print(c)\n",
    "finally:\n",
    "    print(\"ok\")"
   ]
  },
  {
   "cell_type": "markdown",
   "metadata": {},
   "source": [
    "### 07) Create a short program that prompts the user for a list of grades separated by commas. Split the string into individual grades and use a list comprehension to convert each string to an integer. You should use a try statement to inform the user when the values they entered cannot be converted."
   ]
  },
  {
   "cell_type": "code",
   "execution_count": 46,
   "metadata": {},
   "outputs": [
    {
     "name": "stdout",
     "output_type": "stream",
     "text": [
      "Enter comma Seperated Element : 5,\n",
      "Enter Proper Element\n"
     ]
    }
   ],
   "source": [
    "try:\n",
    "    ele = input(\"Enter comma Seperated Element : \").split(',')\n",
    "    listt = [int(i) for i in ele]\n",
    "except:\n",
    "    print(\"Enter Proper Element\")\n",
    "else:\n",
    "    print(listt)"
   ]
  },
  {
   "cell_type": "markdown",
   "metadata": {},
   "source": []
  },
  {
   "cell_type": "markdown",
   "metadata": {},
   "source": [
    "# B"
   ]
  },
  {
   "cell_type": "markdown",
   "metadata": {},
   "source": [
    "### 01) WAP to Raising User Generated Exception."
   ]
  },
  {
   "cell_type": "code",
   "execution_count": 43,
   "metadata": {},
   "outputs": [
    {
     "name": "stdout",
     "output_type": "stream",
     "text": [
      "Enter the Number: 5\n",
      "Enter the Number: 0\n",
      "Ae bhai Zero No Enter karo\n"
     ]
    }
   ],
   "source": [
    "try:\n",
    "    a = int(input(\"Enter the Number: \"))\n",
    "    b = int(input(\"Enter the Number: \"))\n",
    "    if(b == 0):\n",
    "        raise ZeroDivisionError\n",
    "except ZeroDivisionError as e:\n",
    "    print(\"Ae bhai Zero No Enter karo\")\n",
    "else:\n",
    "    print(a/b)"
   ]
  },
  {
   "cell_type": "markdown",
   "metadata": {},
   "source": [
    "### 02) WAP to raise your custom Exception."
   ]
  },
  {
   "cell_type": "code",
   "execution_count": 41,
   "metadata": {},
   "outputs": [
    {
     "name": "stdout",
     "output_type": "stream",
     "text": [
      "Enter the Age: -20\n",
      "Nagative Error\n"
     ]
    }
   ],
   "source": [
    "class AgeError(Exception):\n",
    "    pass\n",
    "try:\n",
    "    age = int(input(\"Enter the Age: \"))\n",
    "    if(age <= 0):\n",
    "        raise AgeError\n",
    "except AgeError:\n",
    "    print(\"Nagative Age\")\n",
    "else:\n",
    "    print(age)"
   ]
  }
 ],
 "metadata": {
  "kernelspec": {
   "display_name": "Python 3 (ipykernel)",
   "language": "python",
   "name": "python3"
  },
  "language_info": {
   "codemirror_mode": {
    "name": "ipython",
    "version": 3
   },
   "file_extension": ".py",
   "mimetype": "text/x-python",
   "name": "python",
   "nbconvert_exporter": "python",
   "pygments_lexer": "ipython3",
   "version": "3.9.12"
  }
 },
 "nbformat": 4,
 "nbformat_minor": 4
}
