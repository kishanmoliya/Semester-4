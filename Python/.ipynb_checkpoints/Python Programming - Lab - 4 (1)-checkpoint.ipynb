{
 "cells": [
  {
   "cell_type": "markdown",
   "metadata": {},
   "source": [
    "\n",
    "<a href='https://www.darshan.ac.in/'> <img src='https://www.darshan.ac.in/Content/media/DU_Logo.svg' width=\"250\" height=\"300\"/></a>\n",
    "<pre>\n",
    "<center><b><h1>Python Programming - 2101CS405</b></center>\n",
    "<center><b><h1>Lab - 4</b></center>    \n",
    "<pre>"
   ]
  },
  {
   "cell_type": "markdown",
   "metadata": {},
   "source": [
    "# String"
   ]
  },
  {
   "cell_type": "markdown",
   "metadata": {},
   "source": [
    "### 01) WAP to check given string is palindrome or not."
   ]
  },
  {
   "cell_type": "code",
   "execution_count": 71,
   "metadata": {},
   "outputs": [
    {
     "name": "stdout",
     "output_type": "stream",
     "text": [
      "Enter the String: kik\n",
      "String is Palindrom\n"
     ]
    }
   ],
   "source": [
    "str = input(\"Enter the String: \")\n",
    "reverse = str[::-1]\n",
    "\n",
    "if(str == reverse):\n",
    "    print(\"String is Palindrom\")\n",
    "else:\n",
    "    print(\"String is Not Palindrom\")"
   ]
  },
  {
   "cell_type": "markdown",
   "metadata": {},
   "source": [
    "### 02) WAP to reverse the words in given string."
   ]
  },
  {
   "cell_type": "code",
   "execution_count": 69,
   "metadata": {},
   "outputs": [
    {
     "name": "stdout",
     "output_type": "stream",
     "text": [
      "Enter the String: kishan moliya\n",
      "moliya kishan\n"
     ]
    }
   ],
   "source": [
    "str = input(\"Enter the String: \")\n",
    "chr = str.split()\n",
    "\n",
    "chr = (reversed(chr))\n",
    "\n",
    "print(\" \".join(chr))"
   ]
  },
  {
   "cell_type": "markdown",
   "metadata": {},
   "source": [
    "### 03) WAP to remove ith character from given string"
   ]
  },
  {
   "cell_type": "code",
   "execution_count": 23,
   "metadata": {},
   "outputs": [
    {
     "name": "stdout",
     "output_type": "stream",
     "text": [
      "kisan\n"
     ]
    }
   ],
   "source": [
    "str = input(\"Enter the String: \")\n",
    "index = int(input(\"Enter the Index:\"))\n",
    "\n",
    "str = str[:index] + str[index+1:]\n",
    "\n",
    "print(str)       "
   ]
  },
  {
   "cell_type": "markdown",
   "metadata": {},
   "source": [
    "### 04) WAP to find length of String without using len function."
   ]
  },
  {
   "cell_type": "code",
   "execution_count": 67,
   "metadata": {},
   "outputs": [
    {
     "name": "stdout",
     "output_type": "stream",
     "text": [
      "Enter the String: kishan\n",
      "Length of String =  6\n"
     ]
    }
   ],
   "source": [
    "str = input(\"Enter the String: \")\n",
    "\n",
    "count=0\n",
    "for i in str:\n",
    "    count = count + 1\n",
    "print(\"Length of String = \",count)"
   ]
  },
  {
   "cell_type": "markdown",
   "metadata": {},
   "source": [
    "### 05) WAP to print even length word in string."
   ]
  },
  {
   "cell_type": "code",
   "execution_count": 66,
   "metadata": {},
   "outputs": [
    {
     "name": "stdout",
     "output_type": "stream",
     "text": [
      "Enter the String: hi hello studen how are you?\n",
      "hi\n",
      "studen\n",
      "you?\n"
     ]
    }
   ],
   "source": [
    "str = input(\"Enter the String: \")\n",
    "\n",
    "word = str.split()\n",
    "\n",
    "for i in word:\n",
    "    if(len(i) %2 == 0):\n",
    "        print(i)"
   ]
  },
  {
   "cell_type": "markdown",
   "metadata": {},
   "source": [
    "### 06) WAP to count numbers of vowels in given string."
   ]
  },
  {
   "cell_type": "code",
   "execution_count": 75,
   "metadata": {},
   "outputs": [
    {
     "name": "stdout",
     "output_type": "stream",
     "text": [
      "Enter the String: KISHANMOLIYA\n",
      "5\n"
     ]
    }
   ],
   "source": [
    "str = input(\"Enter the String: \")\n",
    "\n",
    "vowel = \"aeiouAEIOU\"\n",
    "count = 0\n",
    "for i in str:\n",
    "    if(i in vowel):\n",
    "        count = count + 1\n",
    "print(count)"
   ]
  },
  {
   "cell_type": "markdown",
   "metadata": {},
   "source": [
    "### 07) WAP to convert given array to string."
   ]
  },
  {
   "cell_type": "code",
   "execution_count": 14,
   "metadata": {},
   "outputs": [
    {
     "name": "stdout",
     "output_type": "stream",
     "text": [
      "1 98 65 Darshan University 89 Hadala\n"
     ]
    }
   ],
   "source": [
    "arr = [1,98,65,\"Darshan\",\"University\",89,\"Hadala\"]\n",
    "\n",
    "listToStr = ' '.join([str(elem) for elem in arr])\n",
    " \n",
    "print(listToStr)"
   ]
  },
  {
   "cell_type": "markdown",
   "metadata": {},
   "source": [
    "### 01) WAP to find out duplicate characters in given string."
   ]
  },
  {
   "cell_type": "code",
   "execution_count": 1,
   "metadata": {},
   "outputs": [
    {
     "name": "stdout",
     "output_type": "stream",
     "text": [
      "Enter the String: kishan moliya\n",
      "i\n",
      "a\n"
     ]
    }
   ],
   "source": [
    "string = input(\"Enter the String: \")\n",
    "\n",
    "for i in range(0, len(string)):  \n",
    "    count = 1;  \n",
    "    for j in range(i+1, len(string)):  \n",
    "        if(string[i] == string[j] and string[i] != ' '):  \n",
    "            count = count + 1;  \n",
    "            \n",
    "            string = string[:j] + '0' + string[j+1:];  \n",
    "   \n",
    "    if(count > 1 and string[i] != '0'):  \n",
    "        print(string[i]);  "
   ]
  },
  {
   "cell_type": "code",
   "execution_count": null,
   "metadata": {},
   "outputs": [],
   "source": []
  },
  {
   "cell_type": "markdown",
   "metadata": {},
   "source": [
    "### 02) WAP to capitalize the first and last character of each word in a string."
   ]
  },
  {
   "cell_type": "code",
   "execution_count": 2,
   "metadata": {},
   "outputs": [
    {
     "name": "stdout",
     "output_type": "stream",
     "text": [
      "Enter the String: darshan university\n",
      "DarshaN UniversitY \n"
     ]
    }
   ],
   "source": [
    "str = input(\"Enter the String: \")\n",
    "\n",
    "string = str.title();\n",
    "result = \"\"\n",
    "\n",
    "for word in string.split():\n",
    "    result += word[:-1] + word[-1].upper() + ' '\n",
    "print(result)"
   ]
  },
  {
   "cell_type": "markdown",
   "metadata": {},
   "source": [
    "### 03) WAP to find Maximum frequency character in String."
   ]
  },
  {
   "cell_type": "code",
   "execution_count": 3,
   "metadata": {},
   "outputs": [
    {
     "name": "stdout",
     "output_type": "stream",
     "text": [
      "Enter the String: darshan university at hadala\n",
      "Most Frequent Character =  a\n"
     ]
    }
   ],
   "source": [
    "str = input(\"Enter the String: \")\n",
    "\n",
    "char_freq = {}\n",
    "\n",
    "for i in str:\n",
    "    if i in char_freq:\n",
    "        char_freq[i] = char_freq[i]+1\n",
    "    else:\n",
    "        char_freq[i] = 1\n",
    "result = max(char_freq, key = char_freq.get)\n",
    "\n",
    "print(\"Most Frequent Character = \",result)"
   ]
  },
  {
   "cell_type": "code",
   "execution_count": null,
   "metadata": {},
   "outputs": [],
   "source": []
  },
  {
   "cell_type": "markdown",
   "metadata": {},
   "source": [
    "### 04) WAP to find Minimum frequency character in String."
   ]
  },
  {
   "cell_type": "code",
   "execution_count": 4,
   "metadata": {},
   "outputs": [
    {
     "name": "stdout",
     "output_type": "stream",
     "text": [
      "Enter the String: darshan university at hadala\n",
      "Most Frequent Character =  u\n"
     ]
    }
   ],
   "source": [
    "str = input(\"Enter the String: \")\n",
    "\n",
    "char_freq = {}\n",
    "\n",
    "for i in str:\n",
    "    if i in char_freq:\n",
    "        char_freq[i] = char_freq[i]+1\n",
    "    else:\n",
    "        char_freq[i] = 1\n",
    "result = min(char_freq, key = char_freq.get)\n",
    "\n",
    "print(\"Most Frequent Character = \",result)"
   ]
  },
  {
   "cell_type": "code",
   "execution_count": null,
   "metadata": {},
   "outputs": [],
   "source": []
  },
  {
   "cell_type": "markdown",
   "metadata": {},
   "source": [
    "### 05) WAP to check if a given string is binary string or not"
   ]
  },
  {
   "cell_type": "code",
   "execution_count": 6,
   "metadata": {},
   "outputs": [
    {
     "name": "stdout",
     "output_type": "stream",
     "text": [
      "Enter the String: 1101001\n",
      "1101001 is a Binary String.\n"
     ]
    }
   ],
   "source": [
    "str = input(\"Enter the String: \")\n",
    "\n",
    "flag = 0\n",
    "\n",
    "for char in str:\n",
    "    if char != '0' and char != '1':\n",
    "        flag = 1\n",
    "        break\n",
    "if flag == 0:\n",
    "    print(str,\"is a Binary String.\")\n",
    "else:\n",
    "    print(str,\"is Not a Binary String.\")"
   ]
  }
 ],
 "metadata": {
  "kernelspec": {
   "display_name": "Python 3 (ipykernel)",
   "language": "python",
   "name": "python3"
  },
  "language_info": {
   "codemirror_mode": {
    "name": "ipython",
    "version": 3
   },
   "file_extension": ".py",
   "mimetype": "text/x-python",
   "name": "python",
   "nbconvert_exporter": "python",
   "pygments_lexer": "ipython3",
   "version": "3.9.13"
  },
  "vscode": {
   "interpreter": {
    "hash": "5238573367df39f7286bb46f9ff5f08f63a01a80960060ce41e3c79b190280fa"
   }
  }
 },
 "nbformat": 4,
 "nbformat_minor": 4
}
