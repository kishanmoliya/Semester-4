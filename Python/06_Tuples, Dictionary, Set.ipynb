{
 "cells": [
  {
   "attachments": {},
   "cell_type": "markdown",
   "metadata": {},
   "source": [
    "<a href='https://www.darshan.ac.in/'> <img src='https://www.darshan.ac.in/Content/media/DU_Logo.svg' width=\"250\" height=\"300\"/></a>\n",
    "<pre>\n",
    "<center><b><h1>Python Programming - 2101CS405</b></center>\n",
    "<center><b><h1>Lab - 6</b></center>    \n",
    "<pre>"
   ]
  },
  {
   "cell_type": "markdown",
   "metadata": {},
   "source": [
    "# Tuples, dictionary, set"
   ]
  },
  {
   "cell_type": "markdown",
   "metadata": {},
   "source": [
    "# A"
   ]
  },
  {
   "cell_type": "markdown",
   "metadata": {},
   "source": [
    "### 01) WAP to sort python dictionary by key or value."
   ]
  },
  {
   "cell_type": "code",
   "execution_count": 1,
   "metadata": {},
   "outputs": [
    {
     "name": "stdout",
     "output_type": "stream",
     "text": [
      "{'Devanshu': 6541, 'karan': 252, 'kishan': 7, 'rajesh': 354, 'uttam': 435}\n",
      "{'kishan': 7, 'karan': 252, 'rajesh': 354, 'uttam': 435, 'Devanshu': 6541}\n"
     ]
    }
   ],
   "source": [
    "dictionary = {\"kishan\" : 7, \"karan\" : 252, \"uttam\" : 435, \"rajesh\" : 354, \"Devanshu\" : 6541}\n",
    "\n",
    "# // Sort by Key\n",
    "print(dict(sorted(dictionary.items())))\n",
    "    \n",
    "# Sort by Value\n",
    "sortByValue = sorted(dictionary.items(), key=lambda x:x[1]);\n",
    "print(dict(sortByValue))"
   ]
  },
  {
   "cell_type": "markdown",
   "metadata": {},
   "source": [
    "### 02) WAP to merge two dictionaries given by user."
   ]
  },
  {
   "cell_type": "code",
   "execution_count": null,
   "metadata": {},
   "outputs": [],
   "source": [
    "def createDictionary(n):\n",
    "    my_dict = {};\n",
    "    for i in range(0, n):\n",
    "        key = input(\"Enter the Key in String : \");\n",
    "        value = int(input(\"Enter the Value : \"));\n",
    "        my_dict[key] = value;\n",
    "        \n",
    "    return my_dict;\n",
    "\n",
    "lenOfdict1 = int(input(\"Enter the Length you want to create dictionary  : \"));\n",
    "dict1 = createDictionary(lenOfdict1);\n",
    "\n",
    "lenOfdict2 = int(input(\"Enter the Length you want to create dictionary  : \"));\n",
    "dict2 = createDictionary(lenOfdict2);\n",
    "\n",
    "mergeDict = dict1 | dict2;\n",
    "\n",
    "print(dict1, \"\\n\",dict2);\n",
    "print(mergeDict);"
   ]
  },
  {
   "cell_type": "markdown",
   "metadata": {},
   "source": [
    "### 03) WAP to find tuples that have all elements divisible by K from a list of tuples."
   ]
  },
  {
   "cell_type": "code",
   "execution_count": 2,
   "metadata": {},
   "outputs": [
    {
     "name": "stdout",
     "output_type": "stream",
     "text": [
      "[(333, 666, 999)]\n"
     ]
    }
   ],
   "source": [
    "list1 = [(35,53,22), (9,444,56), (333, 666, 999)];\n",
    "    \n",
    "k = int(input(\"Enter the number you want to divide : \"))\n",
    "    \n",
    "result = [i for i in list1 if all(ele % k == 0 for ele in i)]\n",
    "\n",
    "print(result)"
   ]
  },
  {
   "cell_type": "markdown",
   "metadata": {},
   "source": [
    "### 04) WAP to find Tuples with positive elements in List of tuples."
   ]
  },
  {
   "cell_type": "code",
   "execution_count": 3,
   "metadata": {},
   "outputs": [
    {
     "name": "stdout",
     "output_type": "stream",
     "text": [
      "[(4, 5, 9), (4, 6)]\n"
     ]
    }
   ],
   "source": [
    "list1 = [(4, 5, 9), (-3, 2, 3), (-3, 5, 6), (4, 6)];\n",
    "\n",
    "result = [i for i in list1 if all(ele>= 0 for ele in i)]\n",
    "\n",
    "print(result)"
   ]
  },
  {
   "cell_type": "markdown",
   "metadata": {},
   "source": [
    "### 05) WAP which perform union of two sets."
   ]
  },
  {
   "cell_type": "code",
   "execution_count": 6,
   "metadata": {},
   "outputs": [
    {
     "name": "stdout",
     "output_type": "stream",
     "text": [
      "set 1: {'2', '6', '3', '5'}\n",
      "set 2: {'4', '1', '6', '7', '2'}\n",
      "Union set {'4', '1', '6', '3', '7', '2', '5'}\n"
     ]
    }
   ],
   "source": [
    "def makeSet(length):\n",
    "    list1 = []\n",
    "    for i in range(length1):\n",
    "        val = input(\"Enter Value In Set 1\")\n",
    "        list1.append(val)\n",
    "    return set((list1))\n",
    "\n",
    "\n",
    "length1 = int(input(\"Enter Length Of Set 1\"))\n",
    "set1 = makeSet(length1)\n",
    "length1 = int(input(\"Enter Length Of Set 2\"))\n",
    "set2 = makeSet(length1)\n",
    "\n",
    "print('set 1:', set1)\n",
    "print('set 2:',set2)\n",
    "union = set1.union(set2)\n",
    "print('Union set', union)"
   ]
  },
  {
   "cell_type": "markdown",
   "metadata": {},
   "source": [
    "# B"
   ]
  },
  {
   "cell_type": "markdown",
   "metadata": {},
   "source": [
    "### 01) WAP to convert binary tuple into integer."
   ]
  },
  {
   "cell_type": "code",
   "execution_count": null,
   "metadata": {},
   "outputs": [],
   "source": []
  },
  {
   "cell_type": "markdown",
   "metadata": {},
   "source": [
    "### 02) WAP to count frequency in list by dictionary."
   ]
  },
  {
   "cell_type": "code",
   "execution_count": null,
   "metadata": {},
   "outputs": [],
   "source": []
  },
  {
   "cell_type": "markdown",
   "metadata": {},
   "source": [
    "### 03) WAP to remove all the duplicate words from the list using dictionary."
   ]
  },
  {
   "cell_type": "code",
   "execution_count": null,
   "metadata": {},
   "outputs": [],
   "source": []
  },
  {
   "cell_type": "code",
   "execution_count": null,
   "metadata": {},
   "outputs": [],
   "source": []
  }
 ],
 "metadata": {
  "kernelspec": {
   "display_name": "Python 3 (ipykernel)",
   "language": "python",
   "name": "python3"
  },
  "language_info": {
   "codemirror_mode": {
    "name": "ipython",
    "version": 3
   },
   "file_extension": ".py",
   "mimetype": "text/x-python",
   "name": "python",
   "nbconvert_exporter": "python",
   "pygments_lexer": "ipython3",
   "version": "3.11.0"
  }
 },
 "nbformat": 4,
 "nbformat_minor": 4
}
