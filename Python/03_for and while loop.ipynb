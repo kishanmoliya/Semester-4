{
 "cells": [
  {
   "cell_type": "markdown",
   "metadata": {},
   "source": [
    "\n",
    "<a href='https://www.darshan.ac.in/'> <img src='https://www.darshan.ac.in/Content/media/DU_Logo.svg' width=\"250\" height=\"300\"/></a>\n",
    "<pre>\n",
    "<center><b><h1>Python Programming - 2101CS405</b></center>\n",
    "<center><b><h1>Lab - 3</b></center>    \n",
    "<pre>"
   ]
  },
  {
   "cell_type": "markdown",
   "metadata": {},
   "source": [
    "# for and while loop"
   ]
  },
  {
   "cell_type": "markdown",
   "metadata": {},
   "source": [
    "### 01) WAP to print 1 to 10"
   ]
  },
  {
   "cell_type": "code",
   "execution_count": 4,
   "metadata": {},
   "outputs": [
    {
     "name": "stdout",
     "output_type": "stream",
     "text": [
      "1\n",
      "2\n",
      "3\n",
      "4\n",
      "5\n",
      "6\n",
      "7\n",
      "8\n",
      "9\n",
      "10\n"
     ]
    }
   ],
   "source": [
    "for i in range(1,11):\n",
    "    print(i)"
   ]
  },
  {
   "cell_type": "markdown",
   "metadata": {},
   "source": [
    "### 02) WAP to print 1 to n"
   ]
  },
  {
   "cell_type": "code",
   "execution_count": 5,
   "metadata": {},
   "outputs": [
    {
     "name": "stdout",
     "output_type": "stream",
     "text": [
      "Enter the value of n: 15\n",
      "1\n",
      "2\n",
      "3\n",
      "4\n",
      "5\n",
      "6\n",
      "7\n",
      "8\n",
      "9\n",
      "10\n",
      "11\n",
      "12\n",
      "13\n",
      "14\n",
      "15\n"
     ]
    }
   ],
   "source": [
    "n = int(input(\"Enter the value of n: \"))\n",
    "for i in range(1,n+1):\n",
    "    print(i)"
   ]
  },
  {
   "cell_type": "markdown",
   "metadata": {},
   "source": [
    "### 03) WAP to print odd numbers between 1 to n"
   ]
  },
  {
   "cell_type": "code",
   "execution_count": 6,
   "metadata": {},
   "outputs": [
    {
     "name": "stdout",
     "output_type": "stream",
     "text": [
      "Enter the value of n = 15\n",
      "Odd Numbers: \n",
      "1\n",
      "3\n",
      "5\n",
      "7\n",
      "9\n",
      "11\n",
      "13\n",
      "15\n"
     ]
    }
   ],
   "source": [
    "n = int(input(\"Enter the value of n = \"))\n",
    "\n",
    "print(\"Odd Numbers: \")\n",
    "for i in range(1,n+1):\n",
    "    if(i%2!=0):\n",
    "        print(i)"
   ]
  },
  {
   "cell_type": "markdown",
   "metadata": {},
   "source": [
    "### 04) WAP to print numbers between two given numbers which is divisible by 2 but not divisible by 3"
   ]
  },
  {
   "cell_type": "code",
   "execution_count": 7,
   "metadata": {},
   "outputs": [
    {
     "name": "stdout",
     "output_type": "stream",
     "text": [
      "Ente the Number 1: 15\n",
      "Ente the Number 2: 30\n",
      "16\n",
      "20\n",
      "22\n",
      "26\n",
      "28\n"
     ]
    }
   ],
   "source": [
    "a = int(input(\"Ente the Number 1: \"))\n",
    "b = int(input(\"Ente the Number 2: \"))\n",
    "\n",
    "for i in range(a,b+1):\n",
    "    if(i%2==0 and i%3!=0):\n",
    "        print(i)"
   ]
  },
  {
   "cell_type": "markdown",
   "metadata": {},
   "source": [
    "### 05) WAP to print sum of 1 to n numbers"
   ]
  },
  {
   "cell_type": "code",
   "execution_count": 8,
   "metadata": {},
   "outputs": [
    {
     "name": "stdout",
     "output_type": "stream",
     "text": [
      "Enter the Number: 9\n",
      "Sum of 1 to 9 = 45\n"
     ]
    }
   ],
   "source": [
    "n = int(input(\"Enter the Number: \"))\n",
    "\n",
    "sum = 0\n",
    "for i in range(1,n+1):\n",
    "    sum+=i\n",
    "print(\"Sum of 1 to\",n,\"=\",sum)"
   ]
  },
  {
   "cell_type": "markdown",
   "metadata": {},
   "source": [
    "### 06) WAP to print sum of series 1 + 4 + 9 + 16 + 25 + 36 + ...n"
   ]
  },
  {
   "cell_type": "code",
   "execution_count": 15,
   "metadata": {},
   "outputs": [
    {
     "name": "stdout",
     "output_type": "stream",
     "text": [
      "Enter the n: 5\n",
      "Sum =  55\n"
     ]
    }
   ],
   "source": [
    "n = int(input(\"Enter the n: \"))\n",
    "\n",
    "sum = 0\n",
    "for i in range(1,n+1):\n",
    "    sum += i*i\n",
    "print(\"Sum = \",sum)"
   ]
  },
  {
   "cell_type": "markdown",
   "metadata": {},
   "source": [
    "### 07) WAP to print sum of series 1 – 2 + 3 – 4 + 5 – 6 + 7 ... n"
   ]
  },
  {
   "cell_type": "code",
   "execution_count": 86,
   "metadata": {},
   "outputs": [
    {
     "name": "stdout",
     "output_type": "stream",
     "text": [
      "Enter the n: 5\n",
      "Sum =  3\n"
     ]
    }
   ],
   "source": [
    "n = int(input(\"Enter the n: \"))\n",
    "\n",
    "sum = 0\n",
    "for i in range(1,n+1):\n",
    "    if(i%2==0):\n",
    "        sum -= i\n",
    "    else:\n",
    "        sum += i\n",
    "print(\"Sum = \",sum)"
   ]
  },
  {
   "cell_type": "markdown",
   "metadata": {},
   "source": [
    "### 08) WAP to print multiplication table of given number."
   ]
  },
  {
   "cell_type": "code",
   "execution_count": 41,
   "metadata": {},
   "outputs": [
    {
     "name": "stdout",
     "output_type": "stream",
     "text": [
      "5 x 1 = 5\n",
      "5 x 2 = 10\n",
      "5 x 3 = 15\n",
      "5 x 4 = 20\n",
      "5 x 5 = 25\n",
      "5 x 6 = 30\n",
      "5 x 7 = 35\n",
      "5 x 8 = 40\n",
      "5 x 9 = 45\n",
      "5 x 10 = 50\n"
     ]
    }
   ],
   "source": [
    "n = int(input(\"Enter the n: \"))\n",
    "\n",
    "for i in range(1,11):\n",
    "    print(n,\"x\",i,\"=\",n*i)"
   ]
  },
  {
   "cell_type": "markdown",
   "metadata": {},
   "source": [
    "### 09) WAP to find factorial of the given number"
   ]
  },
  {
   "cell_type": "code",
   "execution_count": 17,
   "metadata": {},
   "outputs": [
    {
     "name": "stdout",
     "output_type": "stream",
     "text": [
      "Enter the n: 5\n",
      "Factorial of 5 = 120\n"
     ]
    }
   ],
   "source": [
    "n = int(input(\"Enter the n: \"))\n",
    "\n",
    "factorial = 1\n",
    "for i in range(1,n+1):\n",
    "    factorial *= i\n",
    "print(\"Factorial of\",n,\"=\",factorial)"
   ]
  },
  {
   "cell_type": "markdown",
   "metadata": {},
   "source": [
    "### 10) WAP to find factors of the given number"
   ]
  },
  {
   "cell_type": "code",
   "execution_count": 18,
   "metadata": {},
   "outputs": [
    {
     "name": "stdout",
     "output_type": "stream",
     "text": [
      "Enter the n: 36\n",
      "1 2 3 4 6 9 12 18 "
     ]
    }
   ],
   "source": [
    "n = int(input(\"Enter the n: \"))\n",
    "\n",
    "for i in range(1,int(n/2+1)):\n",
    "    if(n%i == 0):\n",
    "        print(i,end=\" \")"
   ]
  },
  {
   "cell_type": "markdown",
   "metadata": {},
   "source": [
    "### 11) WAP to find whether the given number is prime or not."
   ]
  },
  {
   "cell_type": "code",
   "execution_count": 16,
   "metadata": {},
   "outputs": [
    {
     "name": "stdout",
     "output_type": "stream",
     "text": [
      "11 is a Prime Number.\n"
     ]
    }
   ],
   "source": [
    "n = int(input(\"Enter the n: \"))\n",
    "\n",
    "for i in range(2,int(n/2+1)):\n",
    "    if(n%i == 0):\n",
    "        print(n,\"is a Not Prime Number.\")\n",
    "        break\n",
    "else:\n",
    "    print(n,\"is a Prime Number.\")   \n",
    "    \n",
    "# n = int(input(\"Enter the n: \"))\n",
    "\n",
    "# flag = True\n",
    "# for i in range(2,int(n/2+1)):\n",
    "#     if(n%i == 0):\n",
    "#         flag = False\n",
    "#         break\n",
    "# if(flag):\n",
    "#     print(n,\"is a Prime Number.\")\n",
    "# else:\n",
    "#     print(n,\"is a Not Prime Number.\")\n"
   ]
  },
  {
   "cell_type": "markdown",
   "metadata": {},
   "source": [
    "### 12) WAP to print sum of digits of given number"
   ]
  },
  {
   "cell_type": "code",
   "execution_count": 12,
   "metadata": {},
   "outputs": [
    {
     "name": "stdout",
     "output_type": "stream",
     "text": [
      "Sum of Digit = 15\n"
     ]
    }
   ],
   "source": [
    "n = int(input(\"Enter the n: \"))\n",
    "\n",
    "sum = 0\n",
    "while n>0:\n",
    "    temp = int(n % 10)\n",
    "    sum += temp\n",
    "    n /= 10\n",
    "print(\"Sum of Digit =\",sum)"
   ]
  },
  {
   "cell_type": "markdown",
   "metadata": {},
   "source": [
    "### 13) WAP to check whether the given number is palindrome or not"
   ]
  },
  {
   "cell_type": "code",
   "execution_count": 68,
   "metadata": {},
   "outputs": [
    {
     "name": "stdout",
     "output_type": "stream",
     "text": [
      "Enter the n: 121\n",
      "121 is Palindrome\n"
     ]
    }
   ],
   "source": [
    "n = int(input(\"Enter the n: \"))\n",
    "\n",
    "x = 0\n",
    "i = n\n",
    "while i > 0:\n",
    "    x = (x*10)+(i%10)\n",
    "    i = int(i/10)\n",
    "if(x == n):\n",
    "    print(n,\"is Palindrome\")\n",
    "else:\n",
    "    print(n,\"is Not Palindrome\")\n"
   ]
  },
  {
   "cell_type": "markdown",
   "metadata": {},
   "source": [
    "### 01) WAP to check whether the given number is Armstrong or not."
   ]
  },
  {
   "cell_type": "code",
   "execution_count": 2,
   "metadata": {},
   "outputs": [
    {
     "name": "stdout",
     "output_type": "stream",
     "text": [
      "Number is Armstrong\n"
     ]
    }
   ],
   "source": [
    "n = int(input(\"Enter the Number: \"))\n",
    "\n",
    "arm = 0\n",
    "x = n\n",
    "lengt = len(str(n));\n",
    "\n",
    "while n>0:\n",
    "    temp = int(n%10)\n",
    "    arm += temp ** lengt\n",
    "    n /= 10\n",
    "if(x == arm):\n",
    "    print(\"Number is Armstrong\")\n",
    "else:\n",
    "    print(\"Number is Not Armstrong\")        "
   ]
  },
  {
   "cell_type": "markdown",
   "metadata": {},
   "source": [
    "### 02) WAP to find out prime numbers between given two numbers."
   ]
  },
  {
   "cell_type": "code",
   "execution_count": 51,
   "metadata": {},
   "outputs": [
    {
     "name": "stdout",
     "output_type": "stream",
     "text": [
      "Enter the a: 5\n",
      "Enter the b: 15\n",
      "5 7 11 13 "
     ]
    }
   ],
   "source": [
    "a = int(input(\"Enter the a: \"))\n",
    "b = int(input(\"Enter the b: \"))\n",
    "\n",
    "for i in range(a,b+1):\n",
    "    for j in range(2,int(i/2+1)):\n",
    "        if(i%j == 0):\n",
    "            break\n",
    "    else:\n",
    "        print(i,end=\" \")        "
   ]
  },
  {
   "cell_type": "markdown",
   "metadata": {},
   "source": [
    "### 03) WAP to calculate x^y without using any function."
   ]
  },
  {
   "cell_type": "code",
   "execution_count": 78,
   "metadata": {},
   "outputs": [
    {
     "name": "stdout",
     "output_type": "stream",
     "text": [
      "Enter the a: 2\n",
      "Enter the b: 5\n",
      "x^y = 32\n"
     ]
    }
   ],
   "source": [
    "x = int(input(\"Enter the a: \"))\n",
    "y = int(input(\"Enter the b: \"))\n",
    "\n",
    "squre = x\n",
    "for i in range(x,y+1):\n",
    "    i = x\n",
    "    squre *= i\n",
    "print(\"x^y =\",squre)"
   ]
  },
  {
   "cell_type": "markdown",
   "metadata": {},
   "source": [
    "### 04) WAP to check whether the given number is perfect or not.\n",
    "[Sum of factors including 1 excluding number itself]"
   ]
  },
  {
   "cell_type": "code",
   "execution_count": 84,
   "metadata": {},
   "outputs": [
    {
     "name": "stdout",
     "output_type": "stream",
     "text": [
      "Enter the n: 28\n",
      "Number is Perfect \n"
     ]
    }
   ],
   "source": [
    "n = int(input(\"Enter the n: \"))\n",
    "\n",
    "perfect = 0\n",
    "for i in range(1,int(n/2+1)):\n",
    "    if(n%i == 0):\n",
    "        perfect += i\n",
    "if(perfect == n):\n",
    "    print(\"Number is Perfect \")\n",
    "else:\n",
    "    print(\"Number is Not Perfect \")"
   ]
  },
  {
   "cell_type": "markdown",
   "metadata": {},
   "source": [
    "### 05) WAP to find the sum of 1 + (1+2) + (1+2+3) + (1+2+3+4)+...+(1+2+3+4+....+n)"
   ]
  },
  {
   "cell_type": "code",
   "execution_count": 91,
   "metadata": {},
   "outputs": [
    {
     "name": "stdout",
     "output_type": "stream",
     "text": [
      "Enter the n: 4\n",
      "Sum =  20\n"
     ]
    }
   ],
   "source": [
    "n = int(input(\"Enter the n: \"))\n",
    "\n",
    "sum = 0\n",
    "for i in range(1,n+1):\n",
    "    for j in range(1,i+1):\n",
    "        sum += j\n",
    "print(\"Sum = \",sum)"
   ]
  },
  {
   "cell_type": "markdown",
   "metadata": {},
   "source": [
    "### 06) WAP to print Multiplication Table up to n"
   ]
  },
  {
   "cell_type": "code",
   "execution_count": 92,
   "metadata": {},
   "outputs": [
    {
     "name": "stdout",
     "output_type": "stream",
     "text": [
      "Enter the n: 5\n",
      "Enter the n: 15\n",
      "5 x 1 = 5\n",
      "5 x 2 = 10\n",
      "5 x 3 = 15\n",
      "5 x 4 = 20\n",
      "5 x 5 = 25\n",
      "5 x 6 = 30\n",
      "5 x 7 = 35\n",
      "5 x 8 = 40\n",
      "5 x 9 = 45\n",
      "5 x 10 = 50\n",
      "5 x 11 = 55\n",
      "5 x 12 = 60\n",
      "5 x 13 = 65\n",
      "5 x 14 = 70\n",
      "5 x 15 = 75\n"
     ]
    }
   ],
   "source": [
    "n = int(input(\"Enter the n: \"))\n",
    "end = int(input(\"Enter the End Point: \"))\n",
    "\n",
    "for i in range(1,end+1):\n",
    "    print(n,\"x\",i,\"=\",n*i)"
   ]
  }
 ],
 "metadata": {
  "kernelspec": {
   "display_name": "Python 3 (ipykernel)",
   "language": "python",
   "name": "python3"
  },
  "language_info": {
   "codemirror_mode": {
    "name": "ipython",
    "version": 3
   },
   "file_extension": ".py",
   "mimetype": "text/x-python",
   "name": "python",
   "nbconvert_exporter": "python",
   "pygments_lexer": "ipython3",
   "version": "3.11.0"
  },
  "vscode": {
   "interpreter": {
    "hash": "5238573367df39f7286bb46f9ff5f08f63a01a80960060ce41e3c79b190280fa"
   }
  }
 },
 "nbformat": 4,
 "nbformat_minor": 4
}
