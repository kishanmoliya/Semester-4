{
 "cells": [
  {
   "cell_type": "markdown",
   "metadata": {},
   "source": [
    "\n",
    "<a href='https://www.darshan.ac.in/'> <img src='https://www.darshan.ac.in/Content/media/DU_Logo.svg' width=\"250\" height=\"300\"/></a>\n",
    "<pre>\n",
    "<center><b><h1>Python Programming - 2101CS405</b></center>\n",
    "<center><b><h1>Lab - 5</b></center>    \n",
    "<pre>"
   ]
  },
  {
   "cell_type": "markdown",
   "metadata": {},
   "source": [
    "# list"
   ]
  },
  {
   "cell_type": "markdown",
   "metadata": {},
   "source": [
    "### 01) WAP to find sum of all the elements in List."
   ]
  },
  {
   "cell_type": "code",
   "execution_count": 7,
   "metadata": {},
   "outputs": [
    {
     "name": "stdout",
     "output_type": "stream",
     "text": [
      "Enter the size of List: 5\n",
      "Enter the value: 3\n",
      "Enter the value: 3\n",
      "Enter the value: 3\n",
      "Enter the value: 3\n",
      "Enter the value: 3\n",
      "15\n"
     ]
    }
   ],
   "source": [
    "n = int(input(\"Enter the size of List: \"))\n",
    "list1 = [int(input(\"Enter the value: \")) for i in range(0,n)]\n",
    "\n",
    "sum = 0\n",
    "for i in list1:\n",
    "    sum += list1[i];\n",
    "    \n",
    "print(sum)"
   ]
  },
  {
   "cell_type": "markdown",
   "metadata": {},
   "source": [
    "### 02) WAP to find largest element in a List."
   ]
  },
  {
   "cell_type": "code",
   "execution_count": 13,
   "metadata": {},
   "outputs": [
    {
     "name": "stdout",
     "output_type": "stream",
     "text": [
      "Enter the size of List: 5\n",
      "Enter the value: 7\n",
      "Enter the value: 8\n",
      "Enter the value: 10\n",
      "Enter the value: 25\n",
      "Enter the value: 63\n",
      "Largest is =  63\n"
     ]
    }
   ],
   "source": [
    "n = int(input(\"Enter the size of List: \"))\n",
    "\n",
    "list1 = [int(input(\"Enter the value: \")) for i in range(0,n)]\n",
    "\n",
    "print(\"Largest is =\",max(list1))"
   ]
  },
  {
   "cell_type": "markdown",
   "metadata": {},
   "source": [
    "### 03) WAP to split the List into two and append the first part to the end."
   ]
  },
  {
   "cell_type": "code",
   "execution_count": 19,
   "metadata": {},
   "outputs": [
    {
     "name": "stdout",
     "output_type": "stream",
     "text": [
      "Enter the size of List: 6\n",
      "Enter the value: 1\n",
      "Enter the value: 2\n",
      "Enter the value: 3\n",
      "Enter the value: 4\n",
      "Enter the value: 5\n",
      "Enter the value: 6\n",
      "[1, 2, 3, 4, 5, 6, 1, 2, 3]\n"
     ]
    }
   ],
   "source": [
    "n = int(input(\"Enter the size of List: \"))\n",
    "list1 = [int(input(\"Enter the value: \")) for i in range(0,n)]\n",
    "\n",
    "halfSize = len(list1)//2\n",
    "\n",
    "list2 = list1[0:halfSize]\n",
    "list3 = list1[halfSize:n+1]\n",
    "\n",
    "finalList = list1 + list2\n",
    "\n",
    "print(finalList)"
   ]
  },
  {
   "cell_type": "markdown",
   "metadata": {},
   "source": [
    "### 04) WAP to interchange first and last elements in list entered by a user."
   ]
  },
  {
   "cell_type": "code",
   "execution_count": 24,
   "metadata": {},
   "outputs": [
    {
     "name": "stdout",
     "output_type": "stream",
     "text": [
      "Enter the size of List: 5\n",
      "Enter the value: 12\n",
      "Enter the value: 13\n",
      "Enter the value: 14\n",
      "Enter the value: 15\n",
      "Enter the value: 16\n",
      "[16, 13, 14, 15, 12]\n"
     ]
    }
   ],
   "source": [
    "n = int(input(\"Enter the size of List: \"))\n",
    "list1 = [int(input(\"Enter the value: \")) for i in range(0,n)]\n",
    "\n",
    "firstEle = list1.pop(0)\n",
    "lastEle = list1.pop()\n",
    "\n",
    "list1.append(firstEle)\n",
    "list1.insert(0, lastEle)\n",
    "\n",
    "print(list1)"
   ]
  },
  {
   "cell_type": "markdown",
   "metadata": {},
   "source": [
    "### 05) WAP to interchange the elements on two positions entered by a user."
   ]
  },
  {
   "cell_type": "code",
   "execution_count": 33,
   "metadata": {},
   "outputs": [
    {
     "name": "stdout",
     "output_type": "stream",
     "text": [
      "Enter the size of List: 10\n",
      "Enter the value: 1\n",
      "Enter the value: 2\n",
      "Enter the value: 3\n",
      "Enter the value: 4\n",
      "Enter the value: 5\n",
      "Enter the value: 6\n",
      "Enter the value: 7\n",
      "Enter the value: 8\n",
      "Enter the value: 9\n",
      "Enter the value: 10\n",
      "List Length = 10\n",
      "Enter the First Position2\n",
      "Enter the Second Position7\n",
      "[1, 2, 8, 4, 5, 6, 7, 3, 9, 10]\n"
     ]
    }
   ],
   "source": [
    "n = int(input(\"Enter the size of List: \"))\n",
    "list1 = [int(input(\"Enter the value: \")) for i in range(0,n)]\n",
    "\n",
    "print(\"List Length =\",len(list1))\n",
    "position1 = int(input(\"Enter the First Position\"))\n",
    "position2 = int(input(\"Enter the Second Position\"))\n",
    "\n",
    "firstEle = list1.pop(position1)\n",
    "lastEle = list1.pop(position2-1)\n",
    "\n",
    "list1.insert(position1, lastEle)\n",
    "list1.insert(position2, firstEle)\n",
    "\n",
    "print(list1)"
   ]
  },
  {
   "cell_type": "markdown",
   "metadata": {},
   "source": [
    "### 06) WAP to reverses the list entered by user."
   ]
  },
  {
   "cell_type": "code",
   "execution_count": 35,
   "metadata": {},
   "outputs": [
    {
     "name": "stdout",
     "output_type": "stream",
     "text": [
      "Enter the size of List: 5\n",
      "Enter the value: 1\n",
      "Enter the value: 2\n",
      "Enter the value: 3\n",
      "Enter the value: 4\n",
      "Enter the value: 5\n",
      "[5, 4, 3, 2, 1]\n"
     ]
    }
   ],
   "source": [
    "n = int(input(\"Enter the size of List: \"))\n",
    "list1 = [int(input(\"Enter the value: \")) for i in range(0,n)]\n",
    "\n",
    "list1.reverse()\n",
    "\n",
    "print(list1)"
   ]
  },
  {
   "cell_type": "markdown",
   "metadata": {},
   "source": [
    "### 07) Python program to remove multiple elements from a list using list comprehension"
   ]
  },
  {
   "cell_type": "code",
   "execution_count": 42,
   "metadata": {},
   "outputs": [
    {
     "name": "stdout",
     "output_type": "stream",
     "text": [
      "Enter the size of List: 10\n",
      "Enter the value: 51\n",
      "Enter the value: 52\n",
      "Enter the value: 53\n",
      "Enter the value: 54\n",
      "Enter the value: 55\n",
      "Enter the value: 56\n",
      "Enter the value: 57\n",
      "Enter the value: 58\n",
      "Enter the value: 589\n",
      "Enter the value: 60\n",
      "[51, 52, 53, 54, 55, 56, 57, 58, 589, 60]\n",
      "How many element you want to remove:3\n",
      "Enter the element you want to remove: 589\n",
      "Enter the element you want to remove: 60\n",
      "Enter the element you want to remove: 55\n",
      "[51, 52, 53, 54, 56, 57, 58]\n"
     ]
    }
   ],
   "source": [
    "n = int(input(\"Enter the size of List: \"))\n",
    "list1 = [int(input(\"Enter the value: \")) for i in range(0,n)]\n",
    "print(list1)\n",
    "\n",
    "ele = int(input(\"How many element you want to remove:\"))\n",
    "removeList = [int(input(\"Enter the element you want to remove: \")) for i in range(0,ele)]\n",
    "\n",
    "for i in range(0,ele):\n",
    "    list1.remove(removeList[i])\n",
    "    \n",
    "print(list1)     "
   ]
  },
  {
   "cell_type": "markdown",
   "metadata": {},
   "source": [
    "### 08) Create a list from the specified start to end index of another list."
   ]
  },
  {
   "cell_type": "code",
   "execution_count": 45,
   "metadata": {},
   "outputs": [
    {
     "name": "stdout",
     "output_type": "stream",
     "text": [
      "Enter the size of List: 10\n",
      "Enter the value: 1\n",
      "Enter the value: 2\n",
      "Enter the value: 3\n",
      "Enter the value: 4\n",
      "Enter the value: 5\n",
      "Enter the value: 6\n",
      "Enter the value: 7\n",
      "Enter the value: 8\n",
      "Enter the value: 9\n",
      "Enter the value: 10\n",
      "Enter the Starting Element3\n",
      "Enter the Ending Element7\n",
      "[4, 5, 6, 7, 8]\n"
     ]
    }
   ],
   "source": [
    "n = int(input(\"Enter the size of List: \"))\n",
    "list1 = [int(input(\"Enter the value: \")) for i in range(0,n)]\n",
    "\n",
    "start = int(input(\"Enter the Starting Element\"))\n",
    "end = int(input(\"Enter the Ending Element\"))\n",
    "\n",
    "newList = list1[start:end+1]\n",
    "\n",
    "print(newList)"
   ]
  },
  {
   "cell_type": "markdown",
   "metadata": {},
   "source": [
    "### 09) Input comma separated elements, convert into list and print."
   ]
  },
  {
   "cell_type": "code",
   "execution_count": 46,
   "metadata": {},
   "outputs": [
    {
     "name": "stdout",
     "output_type": "stream",
     "text": [
      "Enter the Stringraju,kaju,5,8\n"
     ]
    },
    {
     "data": {
      "text/plain": [
       "['raju', 'kaju', '5', '8']"
      ]
     },
     "execution_count": 46,
     "metadata": {},
     "output_type": "execute_result"
    }
   ],
   "source": [
    "str = input(\"Enter the String\")\n",
    "\n",
    "list1 = str.split(',')\n",
    "\n",
    "list1"
   ]
  },
  {
   "cell_type": "markdown",
   "metadata": {},
   "source": [
    "### 01) WAP to count Even and Odd numbers in a List."
   ]
  },
  {
   "cell_type": "code",
   "execution_count": 51,
   "metadata": {},
   "outputs": [
    {
     "name": "stdout",
     "output_type": "stream",
     "text": [
      "Enter the size of List: 10\n",
      "Enter the value: 5\n",
      "Enter the value: 10\n",
      "Enter the value: 15\n",
      "Enter the value: 20\n",
      "Enter the value: 25\n",
      "Enter the value: 30\n",
      "Enter the value: 35\n",
      "Enter the value: 45\n",
      "Enter the value: 40\n",
      "Enter the value: 50\n",
      "EvenCount = 5\n",
      "OddCount =  5\n"
     ]
    }
   ],
   "source": [
    "n = int(input(\"Enter the size of List: \"))\n",
    "list1 = [int(input(\"Enter the value: \")) for i in range(0,n)]\n",
    "\n",
    "evenCount = 0\n",
    "oddCount = 0\n",
    "for i in list1:\n",
    "    if i%2 == 0:\n",
    "        evenCount += 1\n",
    "    else:\n",
    "        oddCount += 1\n",
    "\n",
    "print(\"EvenCount =\",evenCount)\n",
    "print(\"OddCount = \",oddCount)"
   ]
  },
  {
   "cell_type": "markdown",
   "metadata": {},
   "source": [
    "### 02) Python program to find N largest and smallest elements from the list"
   ]
  },
  {
   "cell_type": "code",
   "execution_count": 55,
   "metadata": {},
   "outputs": [
    {
     "name": "stdout",
     "output_type": "stream",
     "text": [
      "Enter the size of List: 10\n",
      "Enter the value: 5\n",
      "Enter the value: 8\n",
      "Enter the value: 9\n",
      "Enter the value: 6\n",
      "Enter the value: -5\n",
      "Enter the value: 6\n",
      "Enter the value: -5\n",
      "Enter the value: -6\n",
      "Enter the value: 56\n",
      "Enter the value: 56\n",
      "Enter the Number: 3\n",
      "Largest = [-6, -5]\n",
      "Smallest = [5, 6, 6, 8, 9, 56, 56]\n"
     ]
    }
   ],
   "source": [
    "n = int(input(\"Enter the size of List: \"))\n",
    "list1 = [int(input(\"Enter the value: \")) for i in range(0,n)]\n",
    "\n",
    "ele = int(input(\"Enter the Number: \"))\n",
    "\n",
    "list1.sort()\n",
    "\n",
    "print(\"Largest =\",list1[-ele:])\n",
    "print(\"Smallest =\",list1[0:ele])"
   ]
  },
  {
   "cell_type": "markdown",
   "metadata": {},
   "source": [
    "### 03) WAP to print duplicates from a list of integers"
   ]
  },
  {
   "cell_type": "code",
   "execution_count": 7,
   "metadata": {},
   "outputs": [
    {
     "name": "stdout",
     "output_type": "stream",
     "text": [
      "[5, 6]\n"
     ]
    }
   ],
   "source": [
    "n = int(input(\"Enter the size of List: \"))\n",
    "list1 = [int(input(\"Enter the value: \")) for i in range(0,n)]\n",
    "\n",
    "uniqueList = []\n",
    "duplicateList = []\n",
    " \n",
    "for i in list1:\n",
    "    if i not in uniqueList:\n",
    "        uniqueList.append(i)\n",
    "    elif i not in duplicateList:\n",
    "        duplicateList.append(i)\n",
    " \n",
    "print(duplicateList)"
   ]
  }
 ],
 "metadata": {
  "kernelspec": {
   "display_name": "Python 3",
   "language": "python",
   "name": "python3"
  },
  "language_info": {
   "codemirror_mode": {
    "name": "ipython",
    "version": 3
   },
   "file_extension": ".py",
   "mimetype": "text/x-python",
   "name": "python",
   "nbconvert_exporter": "python",
   "pygments_lexer": "ipython3",
   "version": "3.11.0 (main, Oct 24 2022, 18:26:48) [MSC v.1933 64 bit (AMD64)]"
  },
  "vscode": {
   "interpreter": {
    "hash": "5238573367df39f7286bb46f9ff5f08f63a01a80960060ce41e3c79b190280fa"
   }
  }
 },
 "nbformat": 4,
 "nbformat_minor": 4
}
