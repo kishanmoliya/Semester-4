{
 "cells": [
  {
   "cell_type": "code",
   "execution_count": 13,
   "id": "fc0d4cbb",
   "metadata": {},
   "outputs": [
    {
     "name": "stdout",
     "output_type": "stream",
     "text": [
      "a = 10\n"
     ]
    }
   ],
   "source": [
    "class Demo:\n",
    "    a = 10  #Class Attribute.\n",
    "    \n",
    "obj = Demo()\n",
    "print('a =',obj.a)"
   ]
  },
  {
   "cell_type": "code",
   "execution_count": 19,
   "id": "befbe2f4",
   "metadata": {},
   "outputs": [
    {
     "name": "stdout",
     "output_type": "stream",
     "text": [
      "b = 15\n",
      "name =  kishan\n"
     ]
    }
   ],
   "source": [
    "class Demo2:\n",
    "    b = 15\n",
    "    def printValue(self,name):\n",
    "        print('b =',self.b)\n",
    "        print('name = ',name)\n",
    "        \n",
    "obj = Demo2()\n",
    "obj.printValue('kishan')"
   ]
  },
  {
   "cell_type": "code",
   "execution_count": 23,
   "id": "389fc746",
   "metadata": {},
   "outputs": [
    {
     "name": "stdout",
     "output_type": "stream",
     "text": [
      "Welcome\n",
      "Welcome\n"
     ]
    }
   ],
   "source": [
    "class demo3:\n",
    "    def __init__(self):\n",
    "        print(\"Welcome\")\n",
    "obj = demo3()\n",
    "obj2 = demo3()"
   ]
  }
 ],
 "metadata": {
  "kernelspec": {
   "display_name": "Python 3 (ipykernel)",
   "language": "python",
   "name": "python3"
  },
  "language_info": {
   "codemirror_mode": {
    "name": "ipython",
    "version": 3
   },
   "file_extension": ".py",
   "mimetype": "text/x-python",
   "name": "python",
   "nbconvert_exporter": "python",
   "pygments_lexer": "ipython3",
   "version": "3.9.12"
  }
 },
 "nbformat": 4,
 "nbformat_minor": 5
}
