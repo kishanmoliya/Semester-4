{
 "cells": [
  {
   "cell_type": "markdown",
   "metadata": {},
   "source": [
    "<a href='https://www.darshan.ac.in/'> <img src='https://www.darshan.ac.in/Content/media/DU_Logo.svg' width=\"250\" height=\"300\"/></a>\n",
    "<pre>\n",
    "<center><b><h1>Python Programming - 2101CS405</b></center>\n",
    "<center><b><h1>Lab - 10</b></center>    \n",
    "<pre>"
   ]
  },
  {
   "cell_type": "markdown",
   "metadata": {},
   "source": [
    "# Modules"
   ]
  },
  {
   "cell_type": "markdown",
   "metadata": {},
   "source": [
    "# A"
   ]
  },
  {
   "cell_type": "markdown",
   "metadata": {},
   "source": [
    "### 01) WAP to create Calculator module which defines functions like add, sub,mul and div. create another file that uses the Calculator module."
   ]
  },
  {
   "cell_type": "code",
   "execution_count": 5,
   "metadata": {},
   "outputs": [
    {
     "name": "stdout",
     "output_type": "stream",
     "text": [
      "30\n",
      "-10\n",
      "200\n",
      "0.5\n"
     ]
    }
   ],
   "source": [
    "import cal as k\n",
    "\n",
    "k.add(10,20)\n",
    "k.sub(10,20)\n",
    "k.mul(10,20)\n",
    "k.div(10,20)"
   ]
  },
  {
   "cell_type": "markdown",
   "metadata": {},
   "source": [
    "### 02) WAP to Pick a random character from a given String."
   ]
  },
  {
   "cell_type": "code",
   "execution_count": 10,
   "metadata": {},
   "outputs": [
    {
     "name": "stdout",
     "output_type": "stream",
     "text": [
      "m\n"
     ]
    }
   ],
   "source": [
    "import random\n",
    "str = \"Kishan moliya\"\n",
    "print(random.choice(str))"
   ]
  },
  {
   "cell_type": "markdown",
   "metadata": {},
   "source": [
    "### 03) WAP to Pick a random element from a given list."
   ]
  },
  {
   "cell_type": "code",
   "execution_count": 11,
   "metadata": {},
   "outputs": [
    {
     "name": "stdout",
     "output_type": "stream",
     "text": [
      "86\n"
     ]
    }
   ],
   "source": [
    "import math\n",
    "\n",
    "l1 = [45, 68, 86, 86, 65, 68, 35]\n",
    "\n",
    "print(random.choice(l1))"
   ]
  },
  {
   "cell_type": "markdown",
   "metadata": {},
   "source": [
    "### 04) WAP to demonstrate the use of the math module."
   ]
  },
  {
   "cell_type": "code",
   "execution_count": 12,
   "metadata": {},
   "outputs": [
    {
     "name": "stdout",
     "output_type": "stream",
     "text": [
      "e = 2.718281828459045\n",
      "Pi = 3.141592653589793\n",
      "6.283185307179586\n",
      "7\n",
      "6\n",
      "Factorail = 120\n",
      "10\n",
      "150\n",
      "89.0\n",
      "148.4131591025766\n",
      "25.0\n",
      "3.321928094887362\n",
      "0.3010299956639812\n",
      "3.0\n",
      "0.8509035245341184\n",
      "0.5253219888177297\n",
      "1.6197751905438615\n",
      "1.5707963267948966\n",
      "143.2394487827058\n",
      "3628800.0\n"
     ]
    }
   ],
   "source": [
    "import math\n",
    "\n",
    "print(\"e =\", math.e)\n",
    "print(\"Pi =\", math.pi)\n",
    "print(math.tau)"
   ]
  },
  {
   "cell_type": "code",
   "execution_count": 15,
   "metadata": {},
   "outputs": [
    {
     "name": "stdout",
     "output_type": "stream",
     "text": [
      "7\n",
      "6\n",
      "Factorail = 120\n",
      "10\n",
      "150\n"
     ]
    }
   ],
   "source": [
    "print(math.ceil(6.8))\n",
    "print(math.floor(6.8))\n",
    "print(\"Factorail =\", math.factorial(5))\n",
    "print(math.gcd(50,30))\n",
    "print(math.lcm(50,30))"
   ]
  },
  {
   "cell_type": "code",
   "execution_count": 14,
   "metadata": {},
   "outputs": [
    {
     "name": "stdout",
     "output_type": "stream",
     "text": [
      "89.0\n",
      "148.4131591025766\n",
      "25.0\n",
      "3.321928094887362\n",
      "0.3010299956639812\n",
      "3.0\n",
      "0.8509035245341184\n",
      "0.5253219888177297\n",
      "1.6197751905438615\n",
      "1.5707963267948966\n",
      "143.2394487827058\n",
      "3628800.0\n"
     ]
    }
   ],
   "source": [
    "print(math.fabs(-89))\n",
    "print(math.exp(5))\n",
    "print(math.pow(5,2))\n",
    "print(math.log2(10))\n",
    "print(math.log10(2))\n",
    "print(math.sqrt(9))\n",
    "print(math.sin(45))\n",
    "print(math.cos(45))\n",
    "print(math.tan(45))\n",
    "print(math.radians(90))\n",
    "print(math.degrees(2.5))\n",
    "print(math.gamma(11))"
   ]
  },
  {
   "cell_type": "markdown",
   "metadata": {},
   "source": [
    "### 05) WAP to demonstrate the use of date time module."
   ]
  },
  {
   "cell_type": "code",
   "execution_count": 21,
   "metadata": {},
   "outputs": [
    {
     "name": "stdout",
     "output_type": "stream",
     "text": [
      "2023-02-20\n",
      "2023-02-16\n",
      "16\n",
      "2\n",
      "2023\n",
      "10:30:05.000001\n",
      "10\n",
      "30\n",
      "5\n",
      "1\n"
     ]
    }
   ],
   "source": [
    "import datetime\n",
    "\n",
    "print(datetime.date(2023,2,20))\n",
    "\n",
    "today = datetime.date.today()\n",
    "print(today)\n",
    "print(today.day)\n",
    "print(today.month)\n",
    "print(today.year)"
   ]
  },
  {
   "cell_type": "code",
   "execution_count": 22,
   "metadata": {},
   "outputs": [
    {
     "name": "stdout",
     "output_type": "stream",
     "text": [
      "10:30:05.000001\n",
      "10\n",
      "30\n",
      "5\n",
      "1\n"
     ]
    }
   ],
   "source": [
    "t = datetime.time(10,30,5,1) #hour, min, sec, microSec\n",
    "print(t)\n",
    "print(t.hour)\n",
    "print(t.minute)\n",
    "print(t.second)\n",
    "print(t.microsecond)"
   ]
  },
  {
   "cell_type": "code",
   "execution_count": 20,
   "metadata": {},
   "outputs": [
    {
     "name": "stdout",
     "output_type": "stream",
     "text": [
      "2023-01-21 20:45:10\n",
      "2023-02-16 13:03:17.599638\n"
     ]
    }
   ],
   "source": [
    "t = datetime.datetime(2023, 1, 21, 20, 45, 10)\n",
    "print(t)\n",
    "print(datetime.datetime.now())"
   ]
  },
  {
   "cell_type": "code",
   "execution_count": 19,
   "metadata": {},
   "outputs": [
    {
     "name": "stdout",
     "output_type": "stream",
     "text": [
      "2023-03-02 13:02:56.071177\n",
      "Thursday\n",
      "Thu\n",
      "03\n",
      "02\n",
      "23\n",
      "2023\n"
     ]
    }
   ],
   "source": [
    "x = datetime.datetime.now() + datetime.timedelta(weeks=2)\n",
    "print(x)\n",
    "print(x.strftime(\"%A\"))\n",
    "print(x.strftime(\"%a\"))\n",
    "print(x.strftime(\"%m\"))\n",
    "print(x.strftime(\"%M\"))\n",
    "print(x.strftime(\"%y\"))\n",
    "print(x.strftime(\"%Y\"))"
   ]
  },
  {
   "cell_type": "markdown",
   "metadata": {},
   "source": [
    "# B"
   ]
  },
  {
   "cell_type": "markdown",
   "metadata": {},
   "source": [
    "### 01) WAP to Roll dice in such a way that every time you get the same number."
   ]
  },
  {
   "cell_type": "code",
   "execution_count": 37,
   "metadata": {},
   "outputs": [
    {
     "data": {
      "text/plain": [
       "2"
      ]
     },
     "execution_count": 37,
     "metadata": {},
     "output_type": "execute_result"
    }
   ],
   "source": [
    "dice = [1, 2, 3, 4, 5, 6]\n",
    "random.seed(3)\n",
    "random.choice(dice)"
   ]
  },
  {
   "cell_type": "markdown",
   "metadata": {},
   "source": [
    "### 02) WAP to generate 3 random integers between 100 and 999 which is divisible by 5."
   ]
  },
  {
   "cell_type": "code",
   "execution_count": 46,
   "metadata": {},
   "outputs": [
    {
     "name": "stdout",
     "output_type": "stream",
     "text": [
      "[910, 290, 765]\n"
     ]
    }
   ],
   "source": [
    "l1 = [i for i in range(100, 1000, 5)]\n",
    "print(random.sample(l1,3))"
   ]
  },
  {
   "cell_type": "markdown",
   "metadata": {},
   "source": [
    "### 03) WAP to generate 100 random lottery tickets and pick two lucky tickets from it as a winner."
   ]
  },
  {
   "cell_type": "code",
   "execution_count": 49,
   "metadata": {},
   "outputs": [
    {
     "name": "stdout",
     "output_type": "stream",
     "text": [
      "[135, 345]\n"
     ]
    }
   ],
   "source": [
    "tickets = [random.randint(1, 999) for i in range(100)]\n",
    "print(random.sample(tickets, 2))"
   ]
  },
  {
   "cell_type": "markdown",
   "metadata": {},
   "source": [
    "### 04) WAP to print current date and time in Python."
   ]
  },
  {
   "cell_type": "code",
   "execution_count": 50,
   "metadata": {},
   "outputs": [
    {
     "name": "stdout",
     "output_type": "stream",
     "text": [
      "2023-02-16 13:14:00.773553\n"
     ]
    }
   ],
   "source": [
    "print(datetime.datetime.now())"
   ]
  },
  {
   "cell_type": "markdown",
   "metadata": {},
   "source": [
    "### 05) Subtract a week (7 days) from a given date in Python."
   ]
  },
  {
   "cell_type": "code",
   "execution_count": 63,
   "metadata": {},
   "outputs": [
    {
     "name": "stdout",
     "output_type": "stream",
     "text": [
      "Enter the Date2022-12-12\n",
      "2022-12-05 00:00:00\n"
     ]
    }
   ],
   "source": [
    "date = datetime.datetime.strptime(input(\"Enter the Date in 'yyyy-mm-dd':\"),\"%Y-%m-%d\")\n",
    "\n",
    "x = date - datetime.timedelta(weeks=1)\n",
    "print(x)"
   ]
  },
  {
   "cell_type": "markdown",
   "metadata": {},
   "source": [
    "### 06) WAP to Calculate number of days between two given dates."
   ]
  },
  {
   "cell_type": "code",
   "execution_count": 66,
   "metadata": {},
   "outputs": [
    {
     "name": "stdout",
     "output_type": "stream",
     "text": [
      "Enter the Date in 'yyyy-mm-dd:2020-2-2\n",
      "Enter the Date in 'yyyy-mm-dd:2019-2-2\n",
      "365 days, 0:00:00\n"
     ]
    }
   ],
   "source": [
    "date1 = datetime.datetime.strptime(input(\"Enter the Date in 'yyyy-mm-dd':\"),\"%Y-%m-%d\")\n",
    "date2 = datetime.datetime.strptime(input(\"Enter the Date in 'yyyy-mm-dd':\"),\"%Y-%m-%d\")\n",
    "\n",
    "print(date1-date2)"
   ]
  },
  {
   "cell_type": "markdown",
   "metadata": {},
   "source": [
    "### 07) WAP to Find the day of the week of a given date."
   ]
  },
  {
   "cell_type": "code",
   "execution_count": null,
   "metadata": {},
   "outputs": [],
   "source": [
    "date = datetime.datetime.strptime(input(\"Enter the date 'yyyy-mm-dd': \"),\"%Y-%M-%D\")\n",
    "print(date.strp(\"%A\"))"
   ]
  }
 ],
 "metadata": {
  "kernelspec": {
   "display_name": "Python 3 (ipykernel)",
   "language": "python",
   "name": "python3"
  },
  "language_info": {
   "codemirror_mode": {
    "name": "ipython",
    "version": 3
   },
   "file_extension": ".py",
   "mimetype": "text/x-python",
   "name": "python",
   "nbconvert_exporter": "python",
   "pygments_lexer": "ipython3",
   "version": "3.9.12"
  }
 },
 "nbformat": 4,
 "nbformat_minor": 4
}
